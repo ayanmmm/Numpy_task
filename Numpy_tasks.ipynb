{
  "cells": [
    {
      "cell_type": "markdown",
      "metadata": {
        "id": "view-in-github",
        "colab_type": "text"
      },
      "source": [
        "<a href=\"https://colab.research.google.com/github/ayanmmm/Numpy_task/blob/main/Numpy_tasks.ipynb\" target=\"_parent\"><img src=\"https://colab.research.google.com/assets/colab-badge.svg\" alt=\"Open In Colab\"/></a>"
      ]
    },
    {
      "cell_type": "markdown",
      "metadata": {
        "id": "_OK3Hdm7fI_s"
      },
      "source": [
        "# Numpy\n",
        "\n"
      ]
    },
    {
      "cell_type": "markdown",
      "metadata": {
        "id": "e-0Vl6ShfI_v"
      },
      "source": [
        "#### 1. Import the numpy package under the name `np` (★☆☆) \n",
        "(**hint**: import … as …)"
      ]
    },
    {
      "cell_type": "code",
      "execution_count": 1,
      "metadata": {
        "collapsed": true,
        "id": "utNS6sGnfI_v"
      },
      "outputs": [],
      "source": [
        "import numpy as np "
      ]
    },
    {
      "cell_type": "markdown",
      "metadata": {
        "id": "th982JSnfI_w"
      },
      "source": [
        "#### 2. Print the numpy version and the configuration (★☆☆) \n",
        "(**hint**: np.\\_\\_version\\_\\_, np.show\\_config)"
      ]
    },
    {
      "cell_type": "code",
      "execution_count": 2,
      "metadata": {
        "id": "p5sOfHdIfI_w",
        "colab": {
          "base_uri": "https://localhost:8080/",
          "height": 36
        },
        "outputId": "02dadc92-6ccc-435e-8738-a00ba899f9a7"
      },
      "outputs": [
        {
          "output_type": "execute_result",
          "data": {
            "text/plain": [
              "'1.21.6'"
            ],
            "application/vnd.google.colaboratory.intrinsic+json": {
              "type": "string"
            }
          },
          "metadata": {},
          "execution_count": 2
        }
      ],
      "source": [
        "np.__version__"
      ]
    },
    {
      "cell_type": "markdown",
      "metadata": {
        "id": "ZgZll5bLfI_x"
      },
      "source": [
        "#### 3. Create a null vector of size 10 (★☆☆) \n",
        "(**hint**: np.zeros)"
      ]
    },
    {
      "cell_type": "code",
      "execution_count": 105,
      "metadata": {
        "id": "8Q2lJWEBfI_x",
        "colab": {
          "base_uri": "https://localhost:8080/"
        },
        "outputId": "779bb23a-a4f9-4ad6-8452-d0aa7cbdce5c"
      },
      "outputs": [
        {
          "output_type": "execute_result",
          "data": {
            "text/plain": [
              "array([0., 0., 0., 0., 0., 0., 0., 0., 0., 0.])"
            ]
          },
          "metadata": {},
          "execution_count": 105
        }
      ],
      "source": [
        "X=np.zeros(10)  \n",
        "X           "
      ]
    },
    {
      "cell_type": "markdown",
      "metadata": {
        "id": "9T5JVBzzfI_y"
      },
      "source": [
        "#### 4.  How to find the memory size of any array (★☆☆) \n",
        "(**hint**: size, itemsize)"
      ]
    },
    {
      "cell_type": "code",
      "execution_count": 104,
      "metadata": {
        "id": "xx7t5dKBfI_y",
        "colab": {
          "base_uri": "https://localhost:8080/"
        },
        "outputId": "6d24e975-b01d-4086-d638-3980223ae8c7"
      },
      "outputs": [
        {
          "output_type": "stream",
          "name": "stdout",
          "text": [
            "200 bytes"
          ]
        }
      ],
      "source": [
        "A = np.zeros((5,5))\n",
        "print(A.size * A.itemsize, end = \" bytes\")"
      ]
    },
    {
      "cell_type": "markdown",
      "metadata": {
        "id": "HdPotX0JfI_y"
      },
      "source": [
        "#### 5.  How to get the documentation of the numpy add function from the command line? (★☆☆) \n",
        "(**hint**: np.info)"
      ]
    },
    {
      "cell_type": "code",
      "execution_count": 102,
      "metadata": {
        "collapsed": true,
        "id": "71RoblJrfI_z",
        "colab": {
          "base_uri": "https://localhost:8080/"
        },
        "outputId": "b484d22e-99eb-41d2-f765-e5a00431df52"
      },
      "outputs": [
        {
          "output_type": "stream",
          "name": "stdout",
          "text": [
            "add(x1, x2, /, out=None, *, where=True, casting='same_kind', order='K', dtype=None, subok=True[, signature, extobj])\n",
            "\n",
            "Add arguments element-wise.\n",
            "\n",
            "Parameters\n",
            "----------\n",
            "x1, x2 : array_like\n",
            "    The arrays to be added.\n",
            "    If ``x1.shape != x2.shape``, they must be broadcastable to a common\n",
            "    shape (which becomes the shape of the output).\n",
            "out : ndarray, None, or tuple of ndarray and None, optional\n",
            "    A location into which the result is stored. If provided, it must have\n",
            "    a shape that the inputs broadcast to. If not provided or None,\n",
            "    a freshly-allocated array is returned. A tuple (possible only as a\n",
            "    keyword argument) must have length equal to the number of outputs.\n",
            "where : array_like, optional\n",
            "    This condition is broadcast over the input. At locations where the\n",
            "    condition is True, the `out` array will be set to the ufunc result.\n",
            "    Elsewhere, the `out` array will retain its original value.\n",
            "    Note that if an uninitialized `out` array is created via the default\n",
            "    ``out=None``, locations within it where the condition is False will\n",
            "    remain uninitialized.\n",
            "**kwargs\n",
            "    For other keyword-only arguments, see the\n",
            "    :ref:`ufunc docs <ufuncs.kwargs>`.\n",
            "\n",
            "Returns\n",
            "-------\n",
            "add : ndarray or scalar\n",
            "    The sum of `x1` and `x2`, element-wise.\n",
            "    This is a scalar if both `x1` and `x2` are scalars.\n",
            "\n",
            "Notes\n",
            "-----\n",
            "Equivalent to `x1` + `x2` in terms of array broadcasting.\n",
            "\n",
            "Examples\n",
            "--------\n",
            ">>> np.add(1.0, 4.0)\n",
            "5.0\n",
            ">>> x1 = np.arange(9.0).reshape((3, 3))\n",
            ">>> x2 = np.arange(3.0)\n",
            ">>> np.add(x1, x2)\n",
            "array([[  0.,   2.,   4.],\n",
            "       [  3.,   5.,   7.],\n",
            "       [  6.,   8.,  10.]])\n",
            "\n",
            "The ``+`` operator can be used as a shorthand for ``np.add`` on ndarrays.\n",
            "\n",
            ">>> x1 = np.arange(9.0).reshape((3, 3))\n",
            ">>> x2 = np.arange(3.0)\n",
            ">>> x1 + x2\n",
            "array([[ 0.,  2.,  4.],\n",
            "       [ 3.,  5.,  7.],\n",
            "       [ 6.,  8., 10.]])\n",
            "None\n"
          ]
        }
      ],
      "source": [
        "print(np.info(np.add))"
      ]
    },
    {
      "cell_type": "markdown",
      "metadata": {
        "id": "wkjIUGTWfI_z"
      },
      "source": [
        "#### 6.  Create a null vector of size 10 but the fifth value which is 1 (★☆☆) \n",
        "(**hint**: array\\[4\\])"
      ]
    },
    {
      "cell_type": "code",
      "execution_count": null,
      "metadata": {
        "id": "b3AtnI2LfI_z",
        "colab": {
          "base_uri": "https://localhost:8080/"
        },
        "outputId": "8b71339c-3cbf-42e4-a553-dc0c3b37f823"
      },
      "outputs": [
        {
          "output_type": "execute_result",
          "data": {
            "text/plain": [
              "array([0., 0., 0., 0., 1., 0., 0., 0., 0., 0.])"
            ]
          },
          "metadata": {},
          "execution_count": 7
        }
      ],
      "source": [
        "X=np.zeros(10)       \n",
        "X[4]=1\n",
        "X"
      ]
    },
    {
      "cell_type": "markdown",
      "metadata": {
        "id": "xJ4ts6C8fI_0"
      },
      "source": [
        "#### 7.  Create a vector with values ranging from 10 to 49 (★☆☆) \n",
        "(**hint**: np.arange)"
      ]
    },
    {
      "cell_type": "code",
      "execution_count": null,
      "metadata": {
        "id": "Jb5Y3TuPfI_0",
        "colab": {
          "base_uri": "https://localhost:8080/"
        },
        "outputId": "dbdfa31e-ca79-4431-d966-2d14e02a34db"
      },
      "outputs": [
        {
          "output_type": "execute_result",
          "data": {
            "text/plain": [
              "array([10, 11, 12, 13, 14, 15, 16, 17, 18, 19, 20, 21, 22, 23, 24, 25, 26,\n",
              "       27, 28, 29, 30, 31, 32, 33, 34, 35, 36, 37, 38, 39, 40, 41, 42, 43,\n",
              "       44, 45, 46, 47, 48, 49])"
            ]
          },
          "metadata": {},
          "execution_count": 9
        }
      ],
      "source": [
        "X=np.arange(10,50)    \n",
        "X"
      ]
    },
    {
      "cell_type": "markdown",
      "metadata": {
        "id": "nJqkqccIfI_0"
      },
      "source": [
        "#### 8.  Reverse a vector (first element becomes last) (★☆☆) \n",
        "(**hint**: array\\[::-1\\])"
      ]
    },
    {
      "cell_type": "code",
      "execution_count": null,
      "metadata": {
        "id": "Y_3ehl02fI_0",
        "colab": {
          "base_uri": "https://localhost:8080/"
        },
        "outputId": "66f5c150-bd86-424c-94c6-6156d95b36bd"
      },
      "outputs": [
        {
          "output_type": "stream",
          "name": "stdout",
          "text": [
            "[49 48 47 46 45 44 43 42 41 40 39 38 37 36 35 34 33 32 31 30 29 28 27 26\n",
            " 25 24 23 22 21 20 19 18 17 16 15 14 13 12 11 10  9  8  7  6  5  4  3  2\n",
            "  1  0]\n"
          ]
        }
      ],
      "source": [
        "Z = np.arange(50)\n",
        "Z = Z[::-1]\n",
        "print(Z)"
      ]
    },
    {
      "cell_type": "markdown",
      "metadata": {
        "id": "edhY58bAfI_1"
      },
      "source": [
        "#### 9.  Create a 3x3 matrix with values ranging from 0 to 8 (★☆☆) \n",
        "(**hint**: reshape)"
      ]
    },
    {
      "cell_type": "code",
      "execution_count": null,
      "metadata": {
        "id": "TqA8A2DRfI_1",
        "colab": {
          "base_uri": "https://localhost:8080/"
        },
        "outputId": "0f833a96-a1a0-4317-b42a-a596a9d49b61"
      },
      "outputs": [
        {
          "output_type": "execute_result",
          "data": {
            "text/plain": [
              "array([[0, 1, 2],\n",
              "       [3, 4, 5],\n",
              "       [6, 7, 8]])"
            ]
          },
          "metadata": {},
          "execution_count": 17
        }
      ],
      "source": [
        "X=np.arange(0,9).reshape(3,3)\n",
        "X"
      ]
    },
    {
      "cell_type": "markdown",
      "metadata": {
        "id": "OGWgnXZefI_1"
      },
      "source": [
        "#### 10. Find indices of non-zero elements from \\[1,2,0,0,4,0\\] (★☆☆) \n",
        "(**hint**: np.nonzero)"
      ]
    },
    {
      "cell_type": "code",
      "execution_count": 101,
      "metadata": {
        "id": "XC6mR1mVfI_1",
        "colab": {
          "base_uri": "https://localhost:8080/"
        },
        "outputId": "bdc10b01-fe8e-4b73-8c5e-6b7713ec7e0e"
      },
      "outputs": [
        {
          "output_type": "execute_result",
          "data": {
            "text/plain": [
              "(array([0, 1, 4]),)"
            ]
          },
          "metadata": {},
          "execution_count": 101
        }
      ],
      "source": [
        "X=[1,2,0,0,4,0]\n",
        "Y=np.nonzero(X)\n",
        "Y"
      ]
    },
    {
      "cell_type": "markdown",
      "metadata": {
        "id": "P1BlZhi9fI_2"
      },
      "source": [
        "#### 11. Create a 3x3 identity matrix (★☆☆) \n",
        "(**hint**: np.eye)"
      ]
    },
    {
      "cell_type": "code",
      "execution_count": 100,
      "metadata": {
        "id": "21XsNECEfI_2",
        "colab": {
          "base_uri": "https://localhost:8080/"
        },
        "outputId": "8d5dcf28-3b24-4d48-8103-8e2ebc0cba6a"
      },
      "outputs": [
        {
          "output_type": "execute_result",
          "data": {
            "text/plain": [
              "array([[1., 0., 0.],\n",
              "       [0., 1., 0.],\n",
              "       [0., 0., 1.]])"
            ]
          },
          "metadata": {},
          "execution_count": 100
        }
      ],
      "source": [
        "X=np.eye(3,3)\n",
        "X"
      ]
    },
    {
      "cell_type": "markdown",
      "metadata": {
        "id": "ViAPY-eMfI_2"
      },
      "source": [
        "#### 12. Create a 3x3x3 array with random values (★☆☆) \n",
        "(**hint**: np.random.random)"
      ]
    },
    {
      "cell_type": "code",
      "execution_count": 99,
      "metadata": {
        "collapsed": true,
        "id": "MGUorBzFfI_2",
        "colab": {
          "base_uri": "https://localhost:8080/"
        },
        "outputId": "7884fe9b-af78-4a93-e52e-8702fc5f9643"
      },
      "outputs": [
        {
          "output_type": "execute_result",
          "data": {
            "text/plain": [
              "array([14.28752454,  4.80849301, 12.42682005])"
            ]
          },
          "metadata": {},
          "execution_count": 99
        }
      ],
      "source": [
        "X=3*3*3*np.random.random(3)\n",
        "X"
      ]
    },
    {
      "cell_type": "markdown",
      "metadata": {
        "id": "dkP7K2uWfI_2"
      },
      "source": [
        "#### 13. Create a 10x10 array with random values and find the minimum and maximum values (★☆☆) \n",
        "(**hint**: min, max)"
      ]
    },
    {
      "cell_type": "code",
      "execution_count": null,
      "metadata": {
        "id": "sVyFl3lIfI_2",
        "colab": {
          "base_uri": "https://localhost:8080/"
        },
        "outputId": "1d01ecf9-680f-4bba-ca7a-a7b1eb51db25"
      },
      "outputs": [
        {
          "output_type": "execute_result",
          "data": {
            "text/plain": [
              "(0.6458740788254269, 9.86409569020005)"
            ]
          },
          "metadata": {},
          "execution_count": 10
        }
      ],
      "source": [
        "X=10*np.random.random(10)\n",
        "X.min(),X.max()\n"
      ]
    },
    {
      "cell_type": "markdown",
      "metadata": {
        "id": "kzZZGQ63fI_2"
      },
      "source": [
        "#### 14. Create a random vector of size 30 and find the mean value (★☆☆) \n",
        "(**hint**: mean)"
      ]
    },
    {
      "cell_type": "code",
      "execution_count": null,
      "metadata": {
        "id": "FGou8U3WfI_3",
        "colab": {
          "base_uri": "https://localhost:8080/"
        },
        "outputId": "d0e2fb5b-186a-4b12-cee9-e05011cbfe2e"
      },
      "outputs": [
        {
          "output_type": "execute_result",
          "data": {
            "text/plain": [
              "0.5733502656401893"
            ]
          },
          "metadata": {},
          "execution_count": 12
        }
      ],
      "source": [
        "X=np.random.random(30)\n",
        "X.mean()"
      ]
    },
    {
      "cell_type": "markdown",
      "metadata": {
        "id": "sO8tRmDvfI_3"
      },
      "source": [
        "#### 15. Create a 2d array with 1 on the border and 0 inside (★☆☆) \n",
        "(**hint**: array\\[1:-1, 1:-1\\])"
      ]
    },
    {
      "cell_type": "code",
      "execution_count": null,
      "metadata": {
        "id": "i-0owyOvfI_3",
        "colab": {
          "base_uri": "https://localhost:8080/"
        },
        "outputId": "036d7058-e9c3-4744-c918-459144d05fa1"
      },
      "outputs": [
        {
          "output_type": "execute_result",
          "data": {
            "text/plain": [
              "array([[1., 1., 1., 1., 1., 1., 1., 1., 1., 1.],\n",
              "       [1., 0., 0., 0., 0., 0., 0., 0., 0., 1.],\n",
              "       [1., 0., 0., 0., 0., 0., 0., 0., 0., 1.],\n",
              "       [1., 0., 0., 0., 0., 0., 0., 0., 0., 1.],\n",
              "       [1., 0., 0., 0., 0., 0., 0., 0., 0., 1.],\n",
              "       [1., 0., 0., 0., 0., 0., 0., 0., 0., 1.],\n",
              "       [1., 0., 0., 0., 0., 0., 0., 0., 0., 1.],\n",
              "       [1., 0., 0., 0., 0., 0., 0., 0., 0., 1.],\n",
              "       [1., 0., 0., 0., 0., 0., 0., 0., 0., 1.],\n",
              "       [1., 1., 1., 1., 1., 1., 1., 1., 1., 1.]])"
            ]
          },
          "metadata": {},
          "execution_count": 18
        }
      ],
      "source": [
        "X=np.ones((10,10))\n",
        "X[1:-1,1:-1]=0\n",
        "X"
      ]
    },
    {
      "cell_type": "markdown",
      "metadata": {
        "id": "LXUHz5PDfI_3"
      },
      "source": [
        "#### 16. How to add a border (filled with 0's) around an existing array? (★☆☆) \n",
        "(**hint**: np.pad)"
      ]
    },
    {
      "cell_type": "code",
      "execution_count": null,
      "metadata": {
        "id": "oFtAnQ97fI_3",
        "colab": {
          "base_uri": "https://localhost:8080/"
        },
        "outputId": "4113c97a-03b6-4b54-d89d-b4bddb0985d1"
      },
      "outputs": [
        {
          "output_type": "stream",
          "name": "stdout",
          "text": [
            "Original array:\n",
            "[[1. 1. 1.]\n",
            " [1. 1. 1.]\n",
            " [1. 1. 1.]]\n",
            "0 on yhe border and 1 in the array\n"
          ]
        },
        {
          "output_type": "execute_result",
          "data": {
            "text/plain": [
              "array([[0., 0., 0., 0., 0.],\n",
              "       [0., 1., 1., 1., 0.],\n",
              "       [0., 1., 1., 1., 0.],\n",
              "       [0., 1., 1., 1., 0.],\n",
              "       [0., 0., 0., 0., 0.]])"
            ]
          },
          "metadata": {},
          "execution_count": 21
        }
      ],
      "source": [
        "x=np.ones((3,3))\n",
        "print(\"Original array:\")\n",
        "print(x)\n",
        "print(\"0 on yhe border and 1 in the array\")\n",
        "y=np.pad(x,pad_width=1,mode='constant',constant_values=0)\n",
        "y"
      ]
    },
    {
      "cell_type": "markdown",
      "metadata": {
        "id": "INyyIVRRfI_3"
      },
      "source": [
        "#### 17. What is the result of the following expression? (★☆☆) \n",
        "(**hint**: NaN = not a number, inf = infinity)"
      ]
    },
    {
      "cell_type": "markdown",
      "metadata": {
        "id": "k5IauvLRfI_3"
      },
      "source": [
        "```python\n",
        "0 * np.nan\n",
        "np.nan == np.nan\n",
        "np.inf > np.nan\n",
        "np.nan - np.nan\n",
        "0.3 == 3 * 0.1\n",
        "```"
      ]
    },
    {
      "cell_type": "code",
      "execution_count": 98,
      "metadata": {
        "id": "ynHaD6rNfI_4",
        "colab": {
          "base_uri": "https://localhost:8080/"
        },
        "outputId": "040e7416-6927-4190-88a3-293ebd3492eb"
      },
      "outputs": [
        {
          "output_type": "execute_result",
          "data": {
            "text/plain": [
              "False"
            ]
          },
          "metadata": {},
          "execution_count": 98
        }
      ],
      "source": [
        "0 * np.nan           # nan\n",
        "np.nan == np.nan     # False\n",
        "np.inf > np.nan      # False\n",
        "np.nan - np.nan      # nan\n",
        "0.3 == 3 * 0.1       # False"
      ]
    },
    {
      "cell_type": "markdown",
      "metadata": {
        "id": "BfCrgJdLfI_4"
      },
      "source": [
        "#### 18. Create a 5x5 matrix with values 1,2,3,4 just below the diagonal (★☆☆) \n",
        "\n",
        "(**hint**: np.diag)"
      ]
    },
    {
      "cell_type": "code",
      "execution_count": null,
      "metadata": {
        "id": "2eReOhFzfI_4",
        "colab": {
          "base_uri": "https://localhost:8080/"
        },
        "outputId": "5412aa54-c936-4ee9-a26d-57a0f6ac49eb"
      },
      "outputs": [
        {
          "output_type": "execute_result",
          "data": {
            "text/plain": [
              "array([[1, 0, 0, 0],\n",
              "       [0, 2, 0, 0],\n",
              "       [0, 0, 3, 0],\n",
              "       [0, 0, 0, 4]])"
            ]
          },
          "metadata": {},
          "execution_count": 40
        }
      ],
      "source": [
        "x=np.diag([1,2,3,4])\n",
        "x"
      ]
    },
    {
      "cell_type": "markdown",
      "metadata": {
        "id": "TqHKAkiOfI_4"
      },
      "source": [
        "#### 19. Create a 8x8 matrix and fill it with a checkerboard pattern (★☆☆) \n",
        "(**hint**: array\\[::2\\])"
      ]
    },
    {
      "cell_type": "code",
      "execution_count": null,
      "metadata": {
        "id": "sxuLQF3tfI_4",
        "colab": {
          "base_uri": "https://localhost:8080/"
        },
        "outputId": "68093264-8d5f-41f6-b713-a03a29ce0bc0"
      },
      "outputs": [
        {
          "output_type": "execute_result",
          "data": {
            "text/plain": [
              "array([[0., 1., 0., 1., 0., 1., 0., 1.],\n",
              "       [1., 0., 1., 0., 1., 0., 1., 0.],\n",
              "       [0., 1., 0., 1., 0., 1., 0., 1.],\n",
              "       [1., 0., 1., 0., 1., 0., 1., 0.],\n",
              "       [0., 1., 0., 1., 0., 1., 0., 1.],\n",
              "       [1., 0., 1., 0., 1., 0., 1., 0.],\n",
              "       [0., 1., 0., 1., 0., 1., 0., 1.],\n",
              "       [1., 0., 1., 0., 1., 0., 1., 0.]])"
            ]
          },
          "metadata": {},
          "execution_count": 41
        }
      ],
      "source": [
        "x=np.zeros((8,8))\n",
        "x[1::2,::2]=1\n",
        "x[::2,1::2]=1\n",
        "x"
      ]
    },
    {
      "cell_type": "markdown",
      "metadata": {
        "id": "yYqzEsEzfI_4"
      },
      "source": [
        "#### 20. Consider a (6,7,8) shape array, what is the index (x,y,z) of the 100th element? \n",
        "(**hint**: np.unravel_index)"
      ]
    },
    {
      "cell_type": "code",
      "execution_count": null,
      "metadata": {
        "id": "hHmOC9z8fI_4",
        "colab": {
          "base_uri": "https://localhost:8080/"
        },
        "outputId": "72dd7e1c-11b6-49fd-fad4-510e23d7602d"
      },
      "outputs": [
        {
          "output_type": "execute_result",
          "data": {
            "text/plain": [
              "(1, 5, 4)"
            ]
          },
          "metadata": {},
          "execution_count": 43
        }
      ],
      "source": [
        "np.unravel_index(100,(6,7,8))"
      ]
    },
    {
      "cell_type": "markdown",
      "metadata": {
        "id": "z2sJSv8YfI_5"
      },
      "source": [
        "#### 21. Create a checkerboard 8x8 matrix using the tile function (★☆☆) \n",
        "\n",
        "(**hint**: np.tile)"
      ]
    },
    {
      "cell_type": "code",
      "execution_count": null,
      "metadata": {
        "id": "hFfIIVSpfI_5",
        "colab": {
          "base_uri": "https://localhost:8080/"
        },
        "outputId": "88151b93-0f68-447c-e5ee-03e867689b4c"
      },
      "outputs": [
        {
          "output_type": "execute_result",
          "data": {
            "text/plain": [
              "array([[0, 1, 0, 1, 0, 1, 0, 1],\n",
              "       [0, 1, 0, 1, 0, 1, 0, 1],\n",
              "       [0, 1, 0, 1, 0, 1, 0, 1],\n",
              "       [0, 1, 0, 1, 0, 1, 0, 1],\n",
              "       [0, 1, 0, 1, 0, 1, 0, 1],\n",
              "       [0, 1, 0, 1, 0, 1, 0, 1],\n",
              "       [0, 1, 0, 1, 0, 1, 0, 1],\n",
              "       [0, 1, 0, 1, 0, 1, 0, 1]])"
            ]
          },
          "metadata": {},
          "execution_count": 44
        }
      ],
      "source": [
        "x=np.tile(np.array([[0,1],[0,1]]),[4,4])\n",
        "x"
      ]
    },
    {
      "cell_type": "markdown",
      "metadata": {
        "id": "qDJy-6yNfI_5"
      },
      "source": [
        "#### 22. Normalize a 5x5 random matrix (★☆☆) \n",
        "(**hint**: (x - min) / (max - min))"
      ]
    },
    {
      "cell_type": "code",
      "execution_count": null,
      "metadata": {
        "id": "QV_x4kLCfI_5",
        "colab": {
          "base_uri": "https://localhost:8080/"
        },
        "outputId": "966dd6e0-60ee-48d6-9355-44cec7b3554f"
      },
      "outputs": [
        {
          "output_type": "execute_result",
          "data": {
            "text/plain": [
              "0.44494290711957435"
            ]
          },
          "metadata": {},
          "execution_count": 46
        }
      ],
      "source": [
        "x=np.random.random(size=(5,5))\n",
        "x_mean=np.mean(x)\n",
        "x_max=np.max(x)\n",
        "Normalize=x_mean/x_max\n",
        "Normalize\n"
      ]
    },
    {
      "cell_type": "markdown",
      "metadata": {
        "id": "v1Gf2gHJfI_5"
      },
      "source": [
        "#### 23. Create a custom dtype that describes a color as four unsigned bytes (RGBA) (★☆☆) \n",
        "(**hint**: np.dtype)"
      ]
    },
    {
      "cell_type": "code",
      "execution_count": 97,
      "metadata": {
        "collapsed": true,
        "id": "4oNVCQuTfI_5"
      },
      "outputs": [],
      "source": [
        "color = np.dtype([(\"r\", np.ubyte),\n",
        "                  (\"g\", np.ubyte),\n",
        "                  (\"b\", np.ubyte),\n",
        "                  (\"a\", np.ubyte)])"
      ]
    },
    {
      "cell_type": "markdown",
      "metadata": {
        "id": "DsuGZBS9fI_5"
      },
      "source": [
        "#### 24. Multiply a 5x3 matrix by a 3x2 matrix (real matrix product) (★☆☆) \n",
        "(**hint**: np.dot | @)"
      ]
    },
    {
      "cell_type": "code",
      "execution_count": 96,
      "metadata": {
        "id": "jHjBVhP-fI_5",
        "colab": {
          "base_uri": "https://localhost:8080/"
        },
        "outputId": "50f06e6e-ab8b-4e2f-f553-9d8ead1ab6a8"
      },
      "outputs": [
        {
          "output_type": "execute_result",
          "data": {
            "text/plain": [
              "array([[3., 3.],\n",
              "       [3., 3.],\n",
              "       [3., 3.],\n",
              "       [3., 3.],\n",
              "       [3., 3.]])"
            ]
          },
          "metadata": {},
          "execution_count": 96
        }
      ],
      "source": [
        "X=np.dot(np.ones((5,3)),np.ones((3,2)))\n",
        "X"
      ]
    },
    {
      "cell_type": "markdown",
      "metadata": {
        "id": "M2JDBCPVfI_5"
      },
      "source": [
        "#### 25. Given a 1D array, negate all elements which are between 3 and 8, in place. (★☆☆)\n",
        "\n",
        "\n",
        "(**hint**: >, <=)"
      ]
    },
    {
      "cell_type": "code",
      "execution_count": 95,
      "metadata": {
        "id": "_H4E_eGifI_6",
        "colab": {
          "base_uri": "https://localhost:8080/"
        },
        "outputId": "1c7835ba-7f2b-4fed-8af8-a629f1c165be"
      },
      "outputs": [
        {
          "output_type": "execute_result",
          "data": {
            "text/plain": [
              "array([ 0,  1,  2,  3, -4, -5, -6, -7,  8,  9, 10])"
            ]
          },
          "metadata": {},
          "execution_count": 95
        }
      ],
      "source": [
        "X=np.arange(11)\n",
        "X[(3<X)&(X<8)]*=-1\n",
        "X"
      ]
    },
    {
      "cell_type": "markdown",
      "metadata": {
        "id": "J1Kmk49rfI_6"
      },
      "source": [
        "#### 26. What is the output of the following script? (★☆☆) \n",
        "(**hint**: np.sum)"
      ]
    },
    {
      "cell_type": "markdown",
      "metadata": {
        "id": "t7d3DPWZfI_6"
      },
      "source": [
        "```python\n",
        "# Author: Jake VanderPlas\n",
        "\n",
        "print(sum(range(5),-1))\n",
        "from numpy import *\n",
        "print(sum(range(5),-1))\n",
        "```"
      ]
    },
    {
      "cell_type": "code",
      "execution_count": null,
      "metadata": {
        "id": "Ce9cMj4AfI_6",
        "colab": {
          "base_uri": "https://localhost:8080/"
        },
        "outputId": "102870df-7d72-4a48-a1cc-e38946c64bbf"
      },
      "outputs": [
        {
          "output_type": "stream",
          "name": "stdout",
          "text": [
            "9\n",
            "10\n"
          ]
        }
      ],
      "source": [
        "print(sum(range(5),-1))\n",
        "from numpy import *\n",
        "print(sum(range(5),-1))"
      ]
    },
    {
      "cell_type": "markdown",
      "metadata": {
        "id": "Db56xds4fI_6"
      },
      "source": [
        "#### 27. Consider an integer vector Z, which of these expressions are legal? (★☆☆)"
      ]
    },
    {
      "cell_type": "markdown",
      "metadata": {
        "id": "5c1bfV3-fI_6"
      },
      "source": [
        "```python\n",
        "Z**Z\n",
        "2 << Z >> 2\n",
        "Z <- Z\n",
        "1j*Z\n",
        "Z/1/1\n",
        "Z<Z>Z\n",
        "```"
      ]
    },
    {
      "cell_type": "code",
      "execution_count": 94,
      "metadata": {
        "id": "3dUM-jl2fI_6",
        "colab": {
          "base_uri": "https://localhost:8080/"
        },
        "outputId": "412263b1-e607-4b27-d148-e8e258a090eb"
      },
      "outputs": [
        {
          "output_type": "execute_result",
          "data": {
            "text/plain": [
              "False"
            ]
          },
          "metadata": {},
          "execution_count": 94
        }
      ],
      "source": [
        "\n",
        "Z = 24\n",
        "Z**Z\n",
        "2 << Z >> 2\n",
        "Z <- Z\n",
        "1j*Z\n",
        "Z/1/1\n",
        "Z<Z>Z"
      ]
    },
    {
      "cell_type": "markdown",
      "metadata": {
        "id": "bdx0CHSjfI_6"
      },
      "source": [
        "#### 28. What are the result of the following expressions?"
      ]
    },
    {
      "cell_type": "markdown",
      "metadata": {
        "id": "RnQRrGnifI_7"
      },
      "source": [
        "```python\n",
        "np.array(0) / np.array(0)\n",
        "np.array(0) // np.array(0)\n",
        "np.array([np.nan]).astype(int).astype(float)\n",
        "```"
      ]
    },
    {
      "cell_type": "code",
      "execution_count": 5,
      "metadata": {
        "id": "zRs0J4HCfI_7",
        "colab": {
          "base_uri": "https://localhost:8080/"
        },
        "outputId": "76bec083-2c8d-4ae7-ded8-a630deafc7ac"
      },
      "outputs": [
        {
          "output_type": "stream",
          "name": "stdout",
          "text": [
            "[-9.22337204e+18]\n"
          ]
        }
      ],
      "source": [
        "#print(np.array(0) / np.array(0))\n",
        "#print(np.array(0) // np.array(0))\n",
        "print(np.array([np.nan]).astype(int).astype(float))"
      ]
    },
    {
      "cell_type": "markdown",
      "metadata": {
        "id": "WITVYaa9fI_7"
      },
      "source": [
        "#### 29. How to round away from zero a float array ? (★☆☆) \n",
        "(**hint**: np.uniform, np.copysign, np.ceil, np.abs)"
      ]
    },
    {
      "cell_type": "code",
      "execution_count": 6,
      "metadata": {
        "id": "vBQUTszyfI_7",
        "colab": {
          "base_uri": "https://localhost:8080/"
        },
        "outputId": "21fd5b2e-2540-4771-c2dd-c27811aa086d"
      },
      "outputs": [
        {
          "output_type": "stream",
          "name": "stdout",
          "text": [
            "[ 4.  7. 10. -1. -5. 10. -5.  4. -9.  8.]\n"
          ]
        }
      ],
      "source": [
        "A = np.random.uniform(-10,+10,10)\n",
        "print(np.copysign(np.ceil(np.abs(A)), A))"
      ]
    },
    {
      "cell_type": "markdown",
      "metadata": {
        "id": "Je_WZhtgfI_7"
      },
      "source": [
        "#### 30. How to find common values between two arrays? (★☆☆) \n",
        "(**hint**: np.intersect1d)"
      ]
    },
    {
      "cell_type": "code",
      "execution_count": 91,
      "metadata": {
        "id": "nRzRdwZQfI_7",
        "colab": {
          "base_uri": "https://localhost:8080/"
        },
        "outputId": "70a1e572-e6cf-4d91-8a75-386eb69b1bc3"
      },
      "outputs": [
        {
          "output_type": "execute_result",
          "data": {
            "text/plain": [
              "array([1, 2, 3, 5, 9])"
            ]
          },
          "metadata": {},
          "execution_count": 91
        }
      ],
      "source": [
        "X=np.random.randint(0,10,10)\n",
        "X1=np.random.randint(0,10,10)\n",
        "np.intersect1d(X,X1)"
      ]
    },
    {
      "cell_type": "markdown",
      "metadata": {
        "id": "-EsDlnDYfI_7"
      },
      "source": [
        "#### 31. How to ignore all numpy warnings (not recommended)? (★☆☆) \n",
        "(**hint**: np.seterr, np.errstate)"
      ]
    },
    {
      "cell_type": "code",
      "execution_count": 90,
      "metadata": {
        "id": "PKKeyysAfI_7"
      },
      "outputs": [],
      "source": [
        "defaults = np.seterr(all=\"ignore\")\n",
        "A = np.ones(1) / 0\n",
        "\n",
        "# Back to sanity\n",
        "_ = np.seterr(**defaults)\n",
        "\n",
        "# Equivalently with a context manager\n",
        "with np.errstate(all=\"ignore\"):\n",
        "    np.arange(3) / 0"
      ]
    },
    {
      "cell_type": "markdown",
      "metadata": {
        "id": "gAKzkH36fI_7"
      },
      "source": [
        "#### 32. Is the following expressions true? (★☆☆) \n",
        "(**hint**: imaginary number)"
      ]
    },
    {
      "cell_type": "markdown",
      "metadata": {
        "id": "FJ2tPzfxfI_8"
      },
      "source": [
        "```python\n",
        "np.sqrt(-1) == np.emath.sqrt(-1)\n",
        "```"
      ]
    },
    {
      "cell_type": "code",
      "execution_count": 89,
      "metadata": {
        "id": "ZwmKFXi0fI_8",
        "colab": {
          "base_uri": "https://localhost:8080/"
        },
        "outputId": "feb79868-1ca4-4e05-c8d4-df2f6566dd95"
      },
      "outputs": [
        {
          "output_type": "execute_result",
          "data": {
            "text/plain": [
              "False"
            ]
          },
          "metadata": {},
          "execution_count": 89
        }
      ],
      "source": [
        "np.sqrt(-1) == np.emath.sqrt(-1)"
      ]
    },
    {
      "cell_type": "markdown",
      "metadata": {
        "id": "Dj6kMRqifI_8"
      },
      "source": [
        "#### 33. How to get the dates of yesterday, today and tomorrow? (★☆☆) \n",
        "(**hint**: np.datetime64, np.timedelta64)"
      ]
    },
    {
      "cell_type": "code",
      "execution_count": 88,
      "metadata": {
        "collapsed": true,
        "id": "d1Krek1XfI_8",
        "colab": {
          "base_uri": "https://localhost:8080/"
        },
        "outputId": "152e6714-53fb-464a-f19f-21e4048f75e0"
      },
      "outputs": [
        {
          "output_type": "execute_result",
          "data": {
            "text/plain": [
              "(numpy.datetime64('2022-07-25'),\n",
              " numpy.datetime64('2022-07-26'),\n",
              " numpy.datetime64('2022-07-27'))"
            ]
          },
          "metadata": {},
          "execution_count": 88
        }
      ],
      "source": [
        "yesterday=np.datetime64(\"today\") - np.timedelta64(1)\n",
        "today=np.datetime64(\"today\")\n",
        "tomorrow=np.datetime64(\"today\")+np.timedelta64(1)\n",
        "yesterday, today, tomorrow\n"
      ]
    },
    {
      "cell_type": "markdown",
      "metadata": {
        "id": "D0UcmDmyfI_8"
      },
      "source": [
        "#### 34. How to get all the dates corresponding to the month of July 2016? (★★☆) \n",
        "(**hint**: np.arange(dtype=datetime64\\['D'\\]))"
      ]
    },
    {
      "cell_type": "code",
      "execution_count": null,
      "metadata": {
        "id": "vMCJ-1t3fI_8",
        "colab": {
          "base_uri": "https://localhost:8080/"
        },
        "outputId": "ad69b34e-58e3-4895-e65e-fc1f55bbbada"
      },
      "outputs": [
        {
          "output_type": "stream",
          "name": "stdout",
          "text": [
            "['2016-07-01' '2016-07-02' '2016-07-03' '2016-07-04' '2016-07-05'\n",
            " '2016-07-06' '2016-07-07' '2016-07-08' '2016-07-09' '2016-07-10'\n",
            " '2016-07-11' '2016-07-12' '2016-07-13' '2016-07-14' '2016-07-15'\n",
            " '2016-07-16' '2016-07-17' '2016-07-18' '2016-07-19' '2016-07-20'\n",
            " '2016-07-21' '2016-07-22' '2016-07-23' '2016-07-24' '2016-07-25'\n",
            " '2016-07-26' '2016-07-27' '2016-07-28' '2016-07-29' '2016-07-30'\n",
            " '2016-07-31']\n"
          ]
        }
      ],
      "source": [
        "Z = np.arange('2016-07', '2016-08', dtype='datetime64[D]')\n",
        "print(Z)"
      ]
    },
    {
      "cell_type": "markdown",
      "metadata": {
        "id": "4KdYxDHDfI_8"
      },
      "source": [
        "#### 35. How to compute ((A+B)\\*(-A/2)) in place (without copy)? (★★☆) \n",
        "(**hint**: np.add(out=), np.negative(out=), np.multiply(out=), np.divide(out=))"
      ]
    },
    {
      "cell_type": "code",
      "execution_count": 10,
      "metadata": {
        "id": "_WbSLPZqfI_8",
        "colab": {
          "base_uri": "https://localhost:8080/"
        },
        "outputId": "a4d9d8cc-8751-4894-86b6-5ffcf25d326a"
      },
      "outputs": [
        {
          "output_type": "execute_result",
          "data": {
            "text/plain": [
              "array([-1.5, -1.5, -1.5])"
            ]
          },
          "metadata": {},
          "execution_count": 10
        }
      ],
      "source": [
        "A = np.ones(3)*1\n",
        "B = np.ones(3)*2\n",
        "np.add(A,B,out=B)\n",
        "np.divide(A,2,out=A)\n",
        "np.negative(A,out=A)\n",
        "np.multiply(A,B,out=A)"
      ]
    },
    {
      "cell_type": "markdown",
      "metadata": {
        "id": "SzQBnAdRfI_8"
      },
      "source": [
        "#### 36. Extract the integer part of a random array using 5 different methods (★★☆) \n",
        "(**hint**: %, np.floor, np.ceil, astype, np.trunc)"
      ]
    },
    {
      "cell_type": "code",
      "execution_count": 11,
      "metadata": {
        "id": "2wO71FHZfI_9",
        "colab": {
          "base_uri": "https://localhost:8080/"
        },
        "outputId": "bf9f044f-7867-48ac-e6eb-b362571465ad"
      },
      "outputs": [
        {
          "output_type": "stream",
          "name": "stdout",
          "text": [
            "[4. 8. 9. 0. 8. 0. 4. 4. 7. 3.]\n",
            "[4. 8. 9. 0. 8. 0. 4. 4. 7. 3.]\n",
            "[4. 8. 9. 0. 8. 0. 4. 4. 7. 3.]\n",
            "[4 8 9 0 8 0 4 4 7 3]\n",
            "[4. 8. 9. 0. 8. 0. 4. 4. 7. 3.]\n"
          ]
        }
      ],
      "source": [
        "A = np.random.uniform(0,10,10)\n",
        "\n",
        "print(A - A%1)\n",
        "print(A // 1)\n",
        "print(np.floor(A))\n",
        "print(A.astype(int))\n",
        "print(np.trunc(A))"
      ]
    },
    {
      "cell_type": "markdown",
      "metadata": {
        "id": "5LN5MjvzfI_9"
      },
      "source": [
        "#### 37. Create a 5x5 matrix with row values ranging from 0 to 4 (★★☆) \n",
        "(**hint**: np.arange)"
      ]
    },
    {
      "cell_type": "code",
      "execution_count": 12,
      "metadata": {
        "id": "JKn71RFkfI_9",
        "colab": {
          "base_uri": "https://localhost:8080/"
        },
        "outputId": "7ffce4fa-50cb-43fe-f427-010f56d489de"
      },
      "outputs": [
        {
          "output_type": "stream",
          "name": "stdout",
          "text": [
            "[[0. 1. 2. 3. 4.]\n",
            " [0. 1. 2. 3. 4.]\n",
            " [0. 1. 2. 3. 4.]\n",
            " [0. 1. 2. 3. 4.]\n",
            " [0. 1. 2. 3. 4.]]\n"
          ]
        }
      ],
      "source": [
        "A = np.zeros((5,5))\n",
        "A += np.arange(5)\n",
        "print(A)\n"
      ]
    },
    {
      "cell_type": "markdown",
      "metadata": {
        "id": "vN0yVkZKfI_9"
      },
      "source": [
        "#### 38. Consider a generator function that generates 10 integers and use it to build an array (★☆☆) \n",
        "(**hint**: np.fromiter)"
      ]
    },
    {
      "cell_type": "code",
      "execution_count": 13,
      "metadata": {
        "id": "Y3wS5UbxfI_9",
        "colab": {
          "base_uri": "https://localhost:8080/"
        },
        "outputId": "dd330ec7-af74-4f23-8284-eb09f6336212"
      },
      "outputs": [
        {
          "output_type": "stream",
          "name": "stdout",
          "text": [
            "[0. 1. 2. 3. 4. 5. 6. 7. 8. 9.]\n"
          ]
        }
      ],
      "source": [
        "def generate():\n",
        "    for x in range(10):\n",
        "        yield x\n",
        "A = np.fromiter(generate(),dtype=float,count=-1)\n",
        "print(A)"
      ]
    },
    {
      "cell_type": "markdown",
      "metadata": {
        "id": "sB9kT488fI_9"
      },
      "source": [
        "#### 39. Create a vector of size 10 with values ranging from 0 to 1, both excluded (★★☆) \n",
        "(**hint**: np.linspace)"
      ]
    },
    {
      "cell_type": "code",
      "execution_count": 87,
      "metadata": {
        "id": "NM9IkYwRfI_9",
        "colab": {
          "base_uri": "https://localhost:8080/"
        },
        "outputId": "c2c88586-cf5e-4c40-aa1a-2b86a10f140f"
      },
      "outputs": [
        {
          "output_type": "stream",
          "name": "stdout",
          "text": [
            "[0.09090909 0.18181818 0.27272727 0.36363636 0.45454545 0.54545455\n",
            " 0.63636364 0.72727273 0.81818182 0.90909091]\n"
          ]
        }
      ],
      "source": [
        "A = np.linspace(0,1,11,endpoint=False)[1:]\n",
        "print(A)\n"
      ]
    },
    {
      "cell_type": "markdown",
      "metadata": {
        "id": "fHu6RItifI_9"
      },
      "source": [
        "#### 40. Create a random vector of size 10 and sort it (★★☆) \n",
        "(**hint**: sort)"
      ]
    },
    {
      "cell_type": "code",
      "execution_count": 15,
      "metadata": {
        "id": "JVKCDmKQfI_9",
        "colab": {
          "base_uri": "https://localhost:8080/"
        },
        "outputId": "c45c007c-7e49-4ed1-abb0-a95a2ddc59d0"
      },
      "outputs": [
        {
          "output_type": "stream",
          "name": "stdout",
          "text": [
            "[0.00096893 0.07765904 0.17991221 0.20539471 0.28342999 0.4606836\n",
            " 0.63124322 0.69053452 0.83836863 0.94247619]\n"
          ]
        }
      ],
      "source": [
        "A = np.random.random(10)\n",
        "A.sort()\n",
        "print(A)"
      ]
    },
    {
      "cell_type": "markdown",
      "metadata": {
        "id": "oSlPmxFwfI_9"
      },
      "source": [
        "#### 41. How to sum a small array faster than np.sum? (★★☆) \n",
        "(**hint**: np.add.reduce)"
      ]
    },
    {
      "cell_type": "code",
      "execution_count": 16,
      "metadata": {
        "id": "Y6gyqnPYfI_-",
        "colab": {
          "base_uri": "https://localhost:8080/"
        },
        "outputId": "bd708dde-3d6c-40dc-89fe-636fa2b69d93"
      },
      "outputs": [
        {
          "output_type": "execute_result",
          "data": {
            "text/plain": [
              "45"
            ]
          },
          "metadata": {},
          "execution_count": 16
        }
      ],
      "source": [
        "A = np.arange(10)\n",
        "np.add.reduce(A)"
      ]
    },
    {
      "cell_type": "markdown",
      "metadata": {
        "id": "tWmEqz2yfI_-"
      },
      "source": [
        "#### 42. Consider two random array A and B, check if they are equal (★★☆) \n",
        "(**hint**: np.allclose, np.array\\_equal)"
      ]
    },
    {
      "cell_type": "code",
      "execution_count": 86,
      "metadata": {
        "id": "cHqXXewBfI_-",
        "colab": {
          "base_uri": "https://localhost:8080/"
        },
        "outputId": "ad48c62e-0fce-4fb8-b87e-3f676a62354d"
      },
      "outputs": [
        {
          "output_type": "stream",
          "name": "stdout",
          "text": [
            "False\n",
            "False\n"
          ]
        }
      ],
      "source": [
        "A = np.random.randint(0,2,5)\n",
        "B = np.random.randint(0,2,5)\n",
        "\n",
        "equal = np.allclose(A,B)\n",
        "print(equal)\n",
        "\n",
        "equal = np.array_equal(A,B)\n",
        "print(equal)"
      ]
    },
    {
      "cell_type": "markdown",
      "metadata": {
        "id": "kVck1OgIfI_-"
      },
      "source": [
        "#### 43. Make an array immutable (read-only) (★★☆) \n",
        "(**hint**: flags.writeable)"
      ]
    },
    {
      "cell_type": "code",
      "execution_count": 18,
      "metadata": {
        "id": "7M4EBPMZfI_-",
        "colab": {
          "base_uri": "https://localhost:8080/",
          "height": 209
        },
        "outputId": "09f89be7-d555-4261-bce3-7aa9f0a5b02b"
      },
      "outputs": [
        {
          "output_type": "error",
          "ename": "ValueError",
          "evalue": "ignored",
          "traceback": [
            "\u001b[0;31m---------------------------------------------------------------------------\u001b[0m",
            "\u001b[0;31mValueError\u001b[0m                                Traceback (most recent call last)",
            "\u001b[0;32m<ipython-input-18-8542adcfa9fd>\u001b[0m in \u001b[0;36m<module>\u001b[0;34m()\u001b[0m\n\u001b[1;32m      1\u001b[0m \u001b[0mA\u001b[0m \u001b[0;34m=\u001b[0m \u001b[0mnp\u001b[0m\u001b[0;34m.\u001b[0m\u001b[0mzeros\u001b[0m\u001b[0;34m(\u001b[0m\u001b[0;36m10\u001b[0m\u001b[0;34m)\u001b[0m\u001b[0;34m\u001b[0m\u001b[0;34m\u001b[0m\u001b[0m\n\u001b[1;32m      2\u001b[0m \u001b[0mA\u001b[0m\u001b[0;34m.\u001b[0m\u001b[0mflags\u001b[0m\u001b[0;34m.\u001b[0m\u001b[0mwriteable\u001b[0m \u001b[0;34m=\u001b[0m \u001b[0;32mFalse\u001b[0m\u001b[0;34m\u001b[0m\u001b[0;34m\u001b[0m\u001b[0m\n\u001b[0;32m----> 3\u001b[0;31m \u001b[0mA\u001b[0m\u001b[0;34m[\u001b[0m\u001b[0;36m0\u001b[0m\u001b[0;34m]\u001b[0m \u001b[0;34m=\u001b[0m \u001b[0;36m1\u001b[0m\u001b[0;34m\u001b[0m\u001b[0;34m\u001b[0m\u001b[0m\n\u001b[0m",
            "\u001b[0;31mValueError\u001b[0m: assignment destination is read-only"
          ]
        }
      ],
      "source": [
        "A = np.zeros(10)\n",
        "A.flags.writeable = False\n",
        "A[0] = 1\n"
      ]
    },
    {
      "cell_type": "markdown",
      "metadata": {
        "id": "T8Q5UvkZfI_-"
      },
      "source": [
        "#### 44. Consider a random 10x2 matrix representing cartesian coordinates, convert them to polar coordinates (★★☆) \n",
        "(**hint**: np.sqrt, np.arctan2)"
      ]
    },
    {
      "cell_type": "code",
      "execution_count": 19,
      "metadata": {
        "id": "-oEE-vPIfI_-",
        "colab": {
          "base_uri": "https://localhost:8080/"
        },
        "outputId": "c987b378-6f1d-4314-b5e5-e83fc2635652"
      },
      "outputs": [
        {
          "output_type": "stream",
          "name": "stdout",
          "text": [
            "[0.61902483 1.05634091 0.56309406 0.85960652 0.89638704 1.07601968\n",
            " 0.95625435 0.72277002 0.60303388 0.8408781 ]\n",
            "[0.83034043 0.77090392 0.28826866 1.45759355 1.03347602 0.48603981\n",
            " 1.52673745 0.78966456 0.48132136 1.27639545]\n"
          ]
        }
      ],
      "source": [
        "A = np.random.random((10,2))\n",
        "X,Y = A[:,0], A[:,1]\n",
        "R = np.sqrt(X**2+Y**2)\n",
        "T = np.arctan2(Y,X)\n",
        "print(R)\n",
        "print(T)"
      ]
    },
    {
      "cell_type": "markdown",
      "metadata": {
        "id": "RAxCwmrhfI_-"
      },
      "source": [
        "#### 45. Create random vector of size 10 and replace the maximum value by 0 (★★☆) \n",
        "(**hint**: argmax)"
      ]
    },
    {
      "cell_type": "code",
      "execution_count": 85,
      "metadata": {
        "id": "lDQsn--YfI_-",
        "colab": {
          "base_uri": "https://localhost:8080/"
        },
        "outputId": "b34a7453-4a7b-4c2e-cc72-0ac3e2eaf7dd"
      },
      "outputs": [
        {
          "output_type": "stream",
          "name": "stdout",
          "text": [
            "[0.04170594 0.56165757 0.27533696 0.19744016 0.11842438 0.19642719\n",
            " 0.66725282 0.         0.27724818 0.65189364]\n"
          ]
        }
      ],
      "source": [
        "A = np.random.random(10)\n",
        "A[A.argmax()] = 0\n",
        "print(A)"
      ]
    },
    {
      "cell_type": "markdown",
      "metadata": {
        "id": "qcCXH2mVfI__"
      },
      "source": [
        "#### 46. Create a structured array with `x` and `y` coordinates covering the \\[0,1\\]x\\[0,1\\] area (★★☆) \n",
        "(**hint**: np.meshgrid)"
      ]
    },
    {
      "cell_type": "code",
      "execution_count": 21,
      "metadata": {
        "id": "uCgiB8UqfI__",
        "colab": {
          "base_uri": "https://localhost:8080/"
        },
        "outputId": "d7ac86b4-2773-41fb-9a18-3f62a46d2b46"
      },
      "outputs": [
        {
          "output_type": "stream",
          "name": "stdout",
          "text": [
            "[[(0.  , 0.  ) (0.25, 0.  ) (0.5 , 0.  ) (0.75, 0.  ) (1.  , 0.  )]\n",
            " [(0.  , 0.25) (0.25, 0.25) (0.5 , 0.25) (0.75, 0.25) (1.  , 0.25)]\n",
            " [(0.  , 0.5 ) (0.25, 0.5 ) (0.5 , 0.5 ) (0.75, 0.5 ) (1.  , 0.5 )]\n",
            " [(0.  , 0.75) (0.25, 0.75) (0.5 , 0.75) (0.75, 0.75) (1.  , 0.75)]\n",
            " [(0.  , 1.  ) (0.25, 1.  ) (0.5 , 1.  ) (0.75, 1.  ) (1.  , 1.  )]]\n"
          ]
        }
      ],
      "source": [
        "A = np.zeros((5,5), [('x',float),('y',float)])\n",
        "A['x'], A['y'] = np.meshgrid(np.linspace(0,1,5),\n",
        "                             np.linspace(0,1,5))\n",
        "print(A)"
      ]
    },
    {
      "cell_type": "markdown",
      "metadata": {
        "id": "woX-Mz_BfI__"
      },
      "source": [
        "####  47. Given two arrays, X and Y, construct the Cauchy matrix C (Cij =1/(xi - yj)) \n",
        "(**hint**: np.subtract.outer)"
      ]
    },
    {
      "cell_type": "code",
      "execution_count": 22,
      "metadata": {
        "id": "ukv_V4ZvfI__",
        "colab": {
          "base_uri": "https://localhost:8080/"
        },
        "outputId": "5896e864-1362-4d68-e840-98a7e27ac615"
      },
      "outputs": [
        {
          "output_type": "stream",
          "name": "stdout",
          "text": [
            "3638.163637117973\n"
          ]
        }
      ],
      "source": [
        "X = np.arange(8)\n",
        "Y = X + 0.5\n",
        "C = 1.0 / np.subtract.outer(X, Y)\n",
        "print(np.linalg.det(C))"
      ]
    },
    {
      "cell_type": "markdown",
      "metadata": {
        "id": "kc9qDZWpfI__"
      },
      "source": [
        "#### 48. Print the minimum and maximum representable value for each numpy scalar type (★★☆) \n",
        "(**hint**: np.iinfo, np.finfo, eps)"
      ]
    },
    {
      "cell_type": "code",
      "execution_count": 84,
      "metadata": {
        "id": "SqYwxfZgfI__",
        "colab": {
          "base_uri": "https://localhost:8080/"
        },
        "outputId": "d620e52a-076b-4ccc-f9e7-b8f1d27655be"
      },
      "outputs": [
        {
          "output_type": "stream",
          "name": "stdout",
          "text": [
            "-128\n",
            "127\n",
            "-2147483648\n",
            "2147483647\n",
            "-9223372036854775808\n",
            "9223372036854775807\n",
            "-3.4028235e+38\n",
            "3.4028235e+38\n",
            "1.1920929e-07\n",
            "-1.7976931348623157e+308\n",
            "1.7976931348623157e+308\n",
            "2.220446049250313e-16\n"
          ]
        }
      ],
      "source": [
        "for dtype in [np.int8, np.int32, np.int64]:\n",
        "   print(np.iinfo(dtype).min)\n",
        "   print(np.iinfo(dtype).max)\n",
        "for dtype in [np.float32, np.float64]:\n",
        "   print(np.finfo(dtype).min)\n",
        "   print(np.finfo(dtype).max)\n",
        "   print(np.finfo(dtype).eps)"
      ]
    },
    {
      "cell_type": "markdown",
      "metadata": {
        "id": "BVTGPXr_fI__"
      },
      "source": [
        "#### 49. How to print all the values of an array? (★★☆) \n",
        "(**hint**: np.set\\_printoptions)"
      ]
    },
    {
      "cell_type": "code",
      "execution_count": 83,
      "metadata": {
        "id": "JURzDBKnfI__",
        "colab": {
          "base_uri": "https://localhost:8080/"
        },
        "outputId": "f1e88cfa-1f31-4a13-f911-01889162f025"
      },
      "outputs": [
        {
          "output_type": "stream",
          "name": "stdout",
          "text": [
            "[[0. 0. 0. 0. 0. 0. 0. 0. 0. 0. 0. 0. 0. 0. 0. 0. 0. 0. 0. 0. 0. 0. 0. 0.\n",
            "  0. 0. 0. 0. 0. 0. 0. 0. 0. 0. 0. 0. 0. 0. 0. 0.]\n",
            " [0. 0. 0. 0. 0. 0. 0. 0. 0. 0. 0. 0. 0. 0. 0. 0. 0. 0. 0. 0. 0. 0. 0. 0.\n",
            "  0. 0. 0. 0. 0. 0. 0. 0. 0. 0. 0. 0. 0. 0. 0. 0.]\n",
            " [0. 0. 0. 0. 0. 0. 0. 0. 0. 0. 0. 0. 0. 0. 0. 0. 0. 0. 0. 0. 0. 0. 0. 0.\n",
            "  0. 0. 0. 0. 0. 0. 0. 0. 0. 0. 0. 0. 0. 0. 0. 0.]\n",
            " [0. 0. 0. 0. 0. 0. 0. 0. 0. 0. 0. 0. 0. 0. 0. 0. 0. 0. 0. 0. 0. 0. 0. 0.\n",
            "  0. 0. 0. 0. 0. 0. 0. 0. 0. 0. 0. 0. 0. 0. 0. 0.]\n",
            " [0. 0. 0. 0. 0. 0. 0. 0. 0. 0. 0. 0. 0. 0. 0. 0. 0. 0. 0. 0. 0. 0. 0. 0.\n",
            "  0. 0. 0. 0. 0. 0. 0. 0. 0. 0. 0. 0. 0. 0. 0. 0.]\n",
            " [0. 0. 0. 0. 0. 0. 0. 0. 0. 0. 0. 0. 0. 0. 0. 0. 0. 0. 0. 0. 0. 0. 0. 0.\n",
            "  0. 0. 0. 0. 0. 0. 0. 0. 0. 0. 0. 0. 0. 0. 0. 0.]\n",
            " [0. 0. 0. 0. 0. 0. 0. 0. 0. 0. 0. 0. 0. 0. 0. 0. 0. 0. 0. 0. 0. 0. 0. 0.\n",
            "  0. 0. 0. 0. 0. 0. 0. 0. 0. 0. 0. 0. 0. 0. 0. 0.]\n",
            " [0. 0. 0. 0. 0. 0. 0. 0. 0. 0. 0. 0. 0. 0. 0. 0. 0. 0. 0. 0. 0. 0. 0. 0.\n",
            "  0. 0. 0. 0. 0. 0. 0. 0. 0. 0. 0. 0. 0. 0. 0. 0.]\n",
            " [0. 0. 0. 0. 0. 0. 0. 0. 0. 0. 0. 0. 0. 0. 0. 0. 0. 0. 0. 0. 0. 0. 0. 0.\n",
            "  0. 0. 0. 0. 0. 0. 0. 0. 0. 0. 0. 0. 0. 0. 0. 0.]\n",
            " [0. 0. 0. 0. 0. 0. 0. 0. 0. 0. 0. 0. 0. 0. 0. 0. 0. 0. 0. 0. 0. 0. 0. 0.\n",
            "  0. 0. 0. 0. 0. 0. 0. 0. 0. 0. 0. 0. 0. 0. 0. 0.]\n",
            " [0. 0. 0. 0. 0. 0. 0. 0. 0. 0. 0. 0. 0. 0. 0. 0. 0. 0. 0. 0. 0. 0. 0. 0.\n",
            "  0. 0. 0. 0. 0. 0. 0. 0. 0. 0. 0. 0. 0. 0. 0. 0.]\n",
            " [0. 0. 0. 0. 0. 0. 0. 0. 0. 0. 0. 0. 0. 0. 0. 0. 0. 0. 0. 0. 0. 0. 0. 0.\n",
            "  0. 0. 0. 0. 0. 0. 0. 0. 0. 0. 0. 0. 0. 0. 0. 0.]\n",
            " [0. 0. 0. 0. 0. 0. 0. 0. 0. 0. 0. 0. 0. 0. 0. 0. 0. 0. 0. 0. 0. 0. 0. 0.\n",
            "  0. 0. 0. 0. 0. 0. 0. 0. 0. 0. 0. 0. 0. 0. 0. 0.]\n",
            " [0. 0. 0. 0. 0. 0. 0. 0. 0. 0. 0. 0. 0. 0. 0. 0. 0. 0. 0. 0. 0. 0. 0. 0.\n",
            "  0. 0. 0. 0. 0. 0. 0. 0. 0. 0. 0. 0. 0. 0. 0. 0.]\n",
            " [0. 0. 0. 0. 0. 0. 0. 0. 0. 0. 0. 0. 0. 0. 0. 0. 0. 0. 0. 0. 0. 0. 0. 0.\n",
            "  0. 0. 0. 0. 0. 0. 0. 0. 0. 0. 0. 0. 0. 0. 0. 0.]\n",
            " [0. 0. 0. 0. 0. 0. 0. 0. 0. 0. 0. 0. 0. 0. 0. 0. 0. 0. 0. 0. 0. 0. 0. 0.\n",
            "  0. 0. 0. 0. 0. 0. 0. 0. 0. 0. 0. 0. 0. 0. 0. 0.]\n",
            " [0. 0. 0. 0. 0. 0. 0. 0. 0. 0. 0. 0. 0. 0. 0. 0. 0. 0. 0. 0. 0. 0. 0. 0.\n",
            "  0. 0. 0. 0. 0. 0. 0. 0. 0. 0. 0. 0. 0. 0. 0. 0.]\n",
            " [0. 0. 0. 0. 0. 0. 0. 0. 0. 0. 0. 0. 0. 0. 0. 0. 0. 0. 0. 0. 0. 0. 0. 0.\n",
            "  0. 0. 0. 0. 0. 0. 0. 0. 0. 0. 0. 0. 0. 0. 0. 0.]\n",
            " [0. 0. 0. 0. 0. 0. 0. 0. 0. 0. 0. 0. 0. 0. 0. 0. 0. 0. 0. 0. 0. 0. 0. 0.\n",
            "  0. 0. 0. 0. 0. 0. 0. 0. 0. 0. 0. 0. 0. 0. 0. 0.]\n",
            " [0. 0. 0. 0. 0. 0. 0. 0. 0. 0. 0. 0. 0. 0. 0. 0. 0. 0. 0. 0. 0. 0. 0. 0.\n",
            "  0. 0. 0. 0. 0. 0. 0. 0. 0. 0. 0. 0. 0. 0. 0. 0.]\n",
            " [0. 0. 0. 0. 0. 0. 0. 0. 0. 0. 0. 0. 0. 0. 0. 0. 0. 0. 0. 0. 0. 0. 0. 0.\n",
            "  0. 0. 0. 0. 0. 0. 0. 0. 0. 0. 0. 0. 0. 0. 0. 0.]\n",
            " [0. 0. 0. 0. 0. 0. 0. 0. 0. 0. 0. 0. 0. 0. 0. 0. 0. 0. 0. 0. 0. 0. 0. 0.\n",
            "  0. 0. 0. 0. 0. 0. 0. 0. 0. 0. 0. 0. 0. 0. 0. 0.]\n",
            " [0. 0. 0. 0. 0. 0. 0. 0. 0. 0. 0. 0. 0. 0. 0. 0. 0. 0. 0. 0. 0. 0. 0. 0.\n",
            "  0. 0. 0. 0. 0. 0. 0. 0. 0. 0. 0. 0. 0. 0. 0. 0.]\n",
            " [0. 0. 0. 0. 0. 0. 0. 0. 0. 0. 0. 0. 0. 0. 0. 0. 0. 0. 0. 0. 0. 0. 0. 0.\n",
            "  0. 0. 0. 0. 0. 0. 0. 0. 0. 0. 0. 0. 0. 0. 0. 0.]\n",
            " [0. 0. 0. 0. 0. 0. 0. 0. 0. 0. 0. 0. 0. 0. 0. 0. 0. 0. 0. 0. 0. 0. 0. 0.\n",
            "  0. 0. 0. 0. 0. 0. 0. 0. 0. 0. 0. 0. 0. 0. 0. 0.]\n",
            " [0. 0. 0. 0. 0. 0. 0. 0. 0. 0. 0. 0. 0. 0. 0. 0. 0. 0. 0. 0. 0. 0. 0. 0.\n",
            "  0. 0. 0. 0. 0. 0. 0. 0. 0. 0. 0. 0. 0. 0. 0. 0.]\n",
            " [0. 0. 0. 0. 0. 0. 0. 0. 0. 0. 0. 0. 0. 0. 0. 0. 0. 0. 0. 0. 0. 0. 0. 0.\n",
            "  0. 0. 0. 0. 0. 0. 0. 0. 0. 0. 0. 0. 0. 0. 0. 0.]\n",
            " [0. 0. 0. 0. 0. 0. 0. 0. 0. 0. 0. 0. 0. 0. 0. 0. 0. 0. 0. 0. 0. 0. 0. 0.\n",
            "  0. 0. 0. 0. 0. 0. 0. 0. 0. 0. 0. 0. 0. 0. 0. 0.]\n",
            " [0. 0. 0. 0. 0. 0. 0. 0. 0. 0. 0. 0. 0. 0. 0. 0. 0. 0. 0. 0. 0. 0. 0. 0.\n",
            "  0. 0. 0. 0. 0. 0. 0. 0. 0. 0. 0. 0. 0. 0. 0. 0.]\n",
            " [0. 0. 0. 0. 0. 0. 0. 0. 0. 0. 0. 0. 0. 0. 0. 0. 0. 0. 0. 0. 0. 0. 0. 0.\n",
            "  0. 0. 0. 0. 0. 0. 0. 0. 0. 0. 0. 0. 0. 0. 0. 0.]\n",
            " [0. 0. 0. 0. 0. 0. 0. 0. 0. 0. 0. 0. 0. 0. 0. 0. 0. 0. 0. 0. 0. 0. 0. 0.\n",
            "  0. 0. 0. 0. 0. 0. 0. 0. 0. 0. 0. 0. 0. 0. 0. 0.]\n",
            " [0. 0. 0. 0. 0. 0. 0. 0. 0. 0. 0. 0. 0. 0. 0. 0. 0. 0. 0. 0. 0. 0. 0. 0.\n",
            "  0. 0. 0. 0. 0. 0. 0. 0. 0. 0. 0. 0. 0. 0. 0. 0.]\n",
            " [0. 0. 0. 0. 0. 0. 0. 0. 0. 0. 0. 0. 0. 0. 0. 0. 0. 0. 0. 0. 0. 0. 0. 0.\n",
            "  0. 0. 0. 0. 0. 0. 0. 0. 0. 0. 0. 0. 0. 0. 0. 0.]\n",
            " [0. 0. 0. 0. 0. 0. 0. 0. 0. 0. 0. 0. 0. 0. 0. 0. 0. 0. 0. 0. 0. 0. 0. 0.\n",
            "  0. 0. 0. 0. 0. 0. 0. 0. 0. 0. 0. 0. 0. 0. 0. 0.]\n",
            " [0. 0. 0. 0. 0. 0. 0. 0. 0. 0. 0. 0. 0. 0. 0. 0. 0. 0. 0. 0. 0. 0. 0. 0.\n",
            "  0. 0. 0. 0. 0. 0. 0. 0. 0. 0. 0. 0. 0. 0. 0. 0.]\n",
            " [0. 0. 0. 0. 0. 0. 0. 0. 0. 0. 0. 0. 0. 0. 0. 0. 0. 0. 0. 0. 0. 0. 0. 0.\n",
            "  0. 0. 0. 0. 0. 0. 0. 0. 0. 0. 0. 0. 0. 0. 0. 0.]\n",
            " [0. 0. 0. 0. 0. 0. 0. 0. 0. 0. 0. 0. 0. 0. 0. 0. 0. 0. 0. 0. 0. 0. 0. 0.\n",
            "  0. 0. 0. 0. 0. 0. 0. 0. 0. 0. 0. 0. 0. 0. 0. 0.]\n",
            " [0. 0. 0. 0. 0. 0. 0. 0. 0. 0. 0. 0. 0. 0. 0. 0. 0. 0. 0. 0. 0. 0. 0. 0.\n",
            "  0. 0. 0. 0. 0. 0. 0. 0. 0. 0. 0. 0. 0. 0. 0. 0.]\n",
            " [0. 0. 0. 0. 0. 0. 0. 0. 0. 0. 0. 0. 0. 0. 0. 0. 0. 0. 0. 0. 0. 0. 0. 0.\n",
            "  0. 0. 0. 0. 0. 0. 0. 0. 0. 0. 0. 0. 0. 0. 0. 0.]\n",
            " [0. 0. 0. 0. 0. 0. 0. 0. 0. 0. 0. 0. 0. 0. 0. 0. 0. 0. 0. 0. 0. 0. 0. 0.\n",
            "  0. 0. 0. 0. 0. 0. 0. 0. 0. 0. 0. 0. 0. 0. 0. 0.]]\n"
          ]
        }
      ],
      "source": [
        "np.set_printoptions(threshold=float(\"inf\"))\n",
        "A = np.zeros((40,40))\n",
        "print(A)"
      ]
    },
    {
      "cell_type": "markdown",
      "metadata": {
        "id": "iDHR-YHOfI__"
      },
      "source": [
        "#### 50. How to find the closest value (to a given scalar) in a vector? (★★☆) \n",
        "(**hint**: argmin)"
      ]
    },
    {
      "cell_type": "code",
      "execution_count": 82,
      "metadata": {
        "id": "DECw-_52fI__",
        "colab": {
          "base_uri": "https://localhost:8080/"
        },
        "outputId": "b523f212-1b5a-4995-f847-0c7f794e6a51"
      },
      "outputs": [
        {
          "output_type": "stream",
          "name": "stdout",
          "text": [
            "59\n"
          ]
        }
      ],
      "source": [
        "A = np.arange(100)\n",
        "v = np.random.uniform(0,100)\n",
        "index = (np.abs(A-v)).argmin()\n",
        "print(A[index])"
      ]
    },
    {
      "cell_type": "markdown",
      "metadata": {
        "id": "CsWG87C1fJAA"
      },
      "source": [
        "#### 51. Create a structured array representing a position (x,y) and a color (r,g,b) (★★☆) \n",
        "(**hint**: dtype)"
      ]
    },
    {
      "cell_type": "code",
      "execution_count": 81,
      "metadata": {
        "id": "fMVam60DfJAA",
        "colab": {
          "base_uri": "https://localhost:8080/"
        },
        "outputId": "c531dfcf-7e50-472e-e9d1-27ef1def9d84"
      },
      "outputs": [
        {
          "output_type": "stream",
          "name": "stdout",
          "text": [
            "[((0., 0.), (0., 0., 0.)) ((0., 0.), (0., 0., 0.))\n",
            " ((0., 0.), (0., 0., 0.)) ((0., 0.), (0., 0., 0.))\n",
            " ((0., 0.), (0., 0., 0.)) ((0., 0.), (0., 0., 0.))\n",
            " ((0., 0.), (0., 0., 0.)) ((0., 0.), (0., 0., 0.))\n",
            " ((0., 0.), (0., 0., 0.)) ((0., 0.), (0., 0., 0.))]\n"
          ]
        },
        {
          "output_type": "stream",
          "name": "stderr",
          "text": [
            "/usr/local/lib/python3.7/dist-packages/ipykernel_launcher.py:5: FutureWarning: Passing (type, 1) or '1type' as a synonym of type is deprecated; in a future version of numpy, it will be understood as (type, (1,)) / '(1,)type'.\n",
            "  \"\"\"\n"
          ]
        }
      ],
      "source": [
        "A = np.zeros(10, [ ('position', [ ('x', float, 1),\n",
        "                                  ('y', float, 1)]),\n",
        "                   ('color',    [ ('r', float, 1),\n",
        "                                  ('g', float, 1),\n",
        "                                  ('b', float, 1)])])\n",
        "print(A)"
      ]
    },
    {
      "cell_type": "markdown",
      "metadata": {
        "id": "U6DB_mugfJAA"
      },
      "source": [
        "#### 52. Consider a random vector with shape (100,2) representing coordinates, find point by point distances (★★☆) \n",
        "(**hint**: np.atleast\\_2d, T, np.sqrt)"
      ]
    },
    {
      "cell_type": "code",
      "execution_count": 80,
      "metadata": {
        "id": "MzZo7fiKfJAA",
        "colab": {
          "base_uri": "https://localhost:8080/"
        },
        "outputId": "2f205274-7dae-45cf-8333-20787f44cf7a"
      },
      "outputs": [
        {
          "output_type": "stream",
          "name": "stdout",
          "text": [
            "[[0.         0.39380859 0.75052417 0.26524843 0.39928685 0.85859707\n",
            "  0.59135672 0.39177245 0.27697593 0.54322094]\n",
            " [0.39380859 0.         0.45692372 0.26547608 0.54215682 0.47212293\n",
            "  0.40774188 0.36356174 0.48751585 0.19242612]\n",
            " [0.75052417 0.45692372 0.         0.71719639 0.62113736 0.54185496\n",
            "  0.81594009 0.4271284  0.92750756 0.53572604]\n",
            " [0.26524843 0.26547608 0.71719639 0.         0.60104911 0.65550105\n",
            "  0.32622449 0.50008036 0.22693    0.32984999]\n",
            " [0.39928685 0.54215682 0.62113736 0.60104911 0.         0.9744186\n",
            "  0.90017422 0.21227894 0.6761411  0.73458273]\n",
            " [0.85859707 0.47212293 0.54185496 0.65550105 0.9744186  0.\n",
            "  0.50708222 0.76713277 0.87118715 0.32588018]\n",
            " [0.59135672 0.40774188 0.81594009 0.32622449 0.90017422 0.50708222\n",
            "  0.         0.75615765 0.4559835  0.28138637]\n",
            " [0.39177245 0.36356174 0.4271284  0.50008036 0.21227894 0.76713277\n",
            "  0.75615765 0.         0.64151517 0.5517129 ]\n",
            " [0.27697593 0.48751585 0.92750756 0.22693    0.6761411  0.87118715\n",
            "  0.4559835  0.64151517 0.         0.54903721]\n",
            " [0.54322094 0.19242612 0.53572604 0.32984999 0.73458273 0.32588018\n",
            "  0.28138637 0.5517129  0.54903721 0.        ]]\n"
          ]
        }
      ],
      "source": [
        "A = np.random.random((10,2))\n",
        "X,Y = np.atleast_2d(A[:,0], A[:,1])\n",
        "D = np.sqrt( (X-X.T)**2 + (Y-Y.T)**2)\n",
        "print(D)\n"
      ]
    },
    {
      "cell_type": "markdown",
      "metadata": {
        "id": "pU33A2zRfJAA"
      },
      "source": [
        "#### 53. How to convert a float (32 bits) array into an integer (32 bits) in place? \n",
        "(**hint**: astype(copy=False))"
      ]
    },
    {
      "cell_type": "code",
      "execution_count": 79,
      "metadata": {
        "id": "rxhsanc5fJAA",
        "colab": {
          "base_uri": "https://localhost:8080/"
        },
        "outputId": "de373746-7a4d-43a2-ab37-baeafdf13a48"
      },
      "outputs": [
        {
          "output_type": "stream",
          "name": "stdout",
          "text": [
            "[48 92 36 30 20  9 20 21  9 62]\n"
          ]
        }
      ],
      "source": [
        "A = (np.random.rand(10)*100).astype(np.float32)\n",
        "Y = A.view(np.int32)\n",
        "Y[:] = A\n",
        "print(Y)"
      ]
    },
    {
      "cell_type": "markdown",
      "metadata": {
        "id": "bSwMfchvfJAA"
      },
      "source": [
        "#### 54. How to read the following file? (★★☆) \n",
        "(**hint**: np.genfromtxt)"
      ]
    },
    {
      "cell_type": "markdown",
      "metadata": {
        "id": "q1qvfA4hfJAA"
      },
      "source": [
        "```\n",
        "1, 2, 3, 4, 5\n",
        "6,  ,  , 7, 8\n",
        " ,  , 9,10,11\n",
        "```"
      ]
    },
    {
      "cell_type": "code",
      "execution_count": 78,
      "metadata": {
        "id": "NA7cvGvLfJAA",
        "colab": {
          "base_uri": "https://localhost:8080/"
        },
        "outputId": "2143c5d6-5d23-4206-a4d7-b3dac60e4352"
      },
      "outputs": [
        {
          "output_type": "stream",
          "name": "stdout",
          "text": [
            "[[ 1  2  3  4  5]\n",
            " [ 6 -1 -1  7  8]\n",
            " [-1 -1  9 10 11]]\n"
          ]
        },
        {
          "output_type": "stream",
          "name": "stderr",
          "text": [
            "/usr/local/lib/python3.7/dist-packages/ipykernel_launcher.py:8: DeprecationWarning: `np.int` is a deprecated alias for the builtin `int`. To silence this warning, use `int` by itself. Doing this will not modify any behavior and is safe. When replacing `np.int`, you may wish to use e.g. `np.int64` or `np.int32` to specify the precision. If you wish to review your current use, check the release note link for additional information.\n",
            "Deprecated in NumPy 1.20; for more details and guidance: https://numpy.org/devdocs/release/1.20.0-notes.html#deprecations\n",
            "  \n"
          ]
        }
      ],
      "source": [
        "from io import StringIO\n",
        "\n",
        "# Fake file\n",
        "s = StringIO('''1, 2, 3, 4, 5\n",
        "                6,  ,  , 7, 8\n",
        "                 ,  , 9,10,11\n",
        "''')\n",
        "A = np.genfromtxt(s, delimiter=\",\", dtype=np.int)\n",
        "print(A)"
      ]
    },
    {
      "cell_type": "markdown",
      "metadata": {
        "id": "rdSN44d3fJAB"
      },
      "source": [
        "#### 55. What is the equivalent of enumerate for numpy arrays? (★★☆) \n",
        "(**hint**: np.ndenumerate, np.ndindex)"
      ]
    },
    {
      "cell_type": "code",
      "execution_count": 76,
      "metadata": {
        "id": "ImyvnKTNfJAB",
        "colab": {
          "base_uri": "https://localhost:8080/"
        },
        "outputId": "e5cdd08d-d759-47dc-f91a-6bbddd543214"
      },
      "outputs": [
        {
          "output_type": "stream",
          "name": "stdout",
          "text": [
            "(0, 0) 0\n",
            "(0, 1) 1\n",
            "(0, 2) 2\n",
            "(1, 0) 3\n",
            "(1, 1) 4\n",
            "(1, 2) 5\n",
            "(2, 0) 6\n",
            "(2, 1) 7\n",
            "(2, 2) 8\n",
            "(0, 0) 0\n",
            "(0, 1) 1\n",
            "(0, 2) 2\n",
            "(1, 0) 3\n",
            "(1, 1) 4\n",
            "(1, 2) 5\n",
            "(2, 0) 6\n",
            "(2, 1) 7\n",
            "(2, 2) 8\n"
          ]
        }
      ],
      "source": [
        "A = np.arange(9).reshape(3,3)\n",
        "for index, value in np.ndenumerate(A):\n",
        "    print(index, value)\n",
        "for index in np.ndindex(A.shape):\n",
        "    print(index, A[index])\n"
      ]
    },
    {
      "cell_type": "markdown",
      "metadata": {
        "id": "C0WM3bjDfJAB"
      },
      "source": [
        "#### 56. Generate a generic 2D Gaussian-like array (★★☆) \n",
        "(**hint**: np.meshgrid, np.exp)"
      ]
    },
    {
      "cell_type": "code",
      "execution_count": 75,
      "metadata": {
        "id": "xPA6_1I8fJAB",
        "colab": {
          "base_uri": "https://localhost:8080/"
        },
        "outputId": "74daa951-2ebb-4e5a-b8d3-ae3485a35530"
      },
      "outputs": [
        {
          "output_type": "stream",
          "name": "stdout",
          "text": [
            "[[0.36787944 0.44822088 0.51979489 0.57375342 0.60279818 0.60279818\n",
            "  0.57375342 0.51979489 0.44822088 0.36787944]\n",
            " [0.44822088 0.54610814 0.63331324 0.69905581 0.73444367 0.73444367\n",
            "  0.69905581 0.63331324 0.54610814 0.44822088]\n",
            " [0.51979489 0.63331324 0.73444367 0.81068432 0.85172308 0.85172308\n",
            "  0.81068432 0.73444367 0.63331324 0.51979489]\n",
            " [0.57375342 0.69905581 0.81068432 0.89483932 0.9401382  0.9401382\n",
            "  0.89483932 0.81068432 0.69905581 0.57375342]\n",
            " [0.60279818 0.73444367 0.85172308 0.9401382  0.98773022 0.98773022\n",
            "  0.9401382  0.85172308 0.73444367 0.60279818]\n",
            " [0.60279818 0.73444367 0.85172308 0.9401382  0.98773022 0.98773022\n",
            "  0.9401382  0.85172308 0.73444367 0.60279818]\n",
            " [0.57375342 0.69905581 0.81068432 0.89483932 0.9401382  0.9401382\n",
            "  0.89483932 0.81068432 0.69905581 0.57375342]\n",
            " [0.51979489 0.63331324 0.73444367 0.81068432 0.85172308 0.85172308\n",
            "  0.81068432 0.73444367 0.63331324 0.51979489]\n",
            " [0.44822088 0.54610814 0.63331324 0.69905581 0.73444367 0.73444367\n",
            "  0.69905581 0.63331324 0.54610814 0.44822088]\n",
            " [0.36787944 0.44822088 0.51979489 0.57375342 0.60279818 0.60279818\n",
            "  0.57375342 0.51979489 0.44822088 0.36787944]]\n"
          ]
        }
      ],
      "source": [
        "X, Y = np.meshgrid(np.linspace(-1,1,10), np.linspace(-1,1,10))\n",
        "D = np.sqrt(X*X+Y*Y)\n",
        "sigma, mu = 1.0, 0.0\n",
        "G = np.exp(-( (D-mu)**2 / ( 2.0 * sigma**2 ) ) )\n",
        "print(G)"
      ]
    },
    {
      "cell_type": "markdown",
      "metadata": {
        "id": "U_E8uFccfJAB"
      },
      "source": [
        "#### 57. How to randomly place p elements in a 2D array? (★★☆) \n",
        "(**hint**: np.put, np.random.choice)"
      ]
    },
    {
      "cell_type": "code",
      "execution_count": 74,
      "metadata": {
        "id": "2bVcEfvZfJAB",
        "colab": {
          "base_uri": "https://localhost:8080/"
        },
        "outputId": "d7826d20-3862-4fba-cfbe-7adcfd838a61"
      },
      "outputs": [
        {
          "output_type": "stream",
          "name": "stdout",
          "text": [
            "[[0. 0. 0. 1. 0. 0. 0. 0. 0. 0.]\n",
            " [0. 0. 0. 0. 0. 0. 0. 0. 0. 0.]\n",
            " [0. 0. 0. 0. 0. 0. 0. 0. 0. 0.]\n",
            " [0. 0. 0. 0. 0. 0. 0. 0. 0. 0.]\n",
            " [0. 0. 0. 0. 0. 0. 0. 0. 0. 0.]\n",
            " [0. 0. 0. 0. 0. 0. 0. 0. 0. 0.]\n",
            " [1. 0. 0. 0. 0. 0. 0. 0. 0. 0.]\n",
            " [0. 0. 0. 0. 0. 0. 0. 0. 0. 0.]\n",
            " [0. 0. 0. 0. 0. 0. 0. 0. 0. 1.]\n",
            " [0. 0. 0. 0. 0. 0. 0. 0. 0. 0.]]\n"
          ]
        }
      ],
      "source": [
        "n = 10\n",
        "p = 3\n",
        "A = np.zeros((n,n))\n",
        "np.put(A, np.random.choice(range(n*n), p, replace=False),1)\n",
        "print(A)"
      ]
    },
    {
      "cell_type": "markdown",
      "metadata": {
        "id": "bThdummIfJAB"
      },
      "source": [
        "#### 58. Subtract the mean of each row of a matrix (★★☆) \n",
        "(**hint**: mean(axis=,keepdims=))"
      ]
    },
    {
      "cell_type": "code",
      "execution_count": 73,
      "metadata": {
        "id": "Hisi78x0fJAB",
        "colab": {
          "base_uri": "https://localhost:8080/"
        },
        "outputId": "db173ee4-003d-4194-b60d-31d5fe8c5912"
      },
      "outputs": [
        {
          "output_type": "stream",
          "name": "stdout",
          "text": [
            "[[ 0.37271775 -0.54159981  0.15153477  0.14472196 -0.21683587  0.00441642\n",
            "  -0.26224545  0.340779   -0.41496169  0.42147292]\n",
            " [-0.04178536  0.15935936  0.34807532 -0.17912121 -0.39659255  0.33913254\n",
            "  -0.21661497  0.08762797 -0.48364739  0.38356629]\n",
            " [-0.48773494  0.26468781  0.21666066 -0.39869561  0.43021244 -0.31659521\n",
            "   0.30214984 -0.02809153  0.26406015 -0.24665361]\n",
            " [-0.13704587 -0.32148257  0.39057028 -0.12855019 -0.090464    0.03599167\n",
            "   0.51108906 -0.38291275  0.29105832 -0.16825395]\n",
            " [ 0.4222184  -0.41295931 -0.04489143 -0.23737825  0.0132525  -0.3041652\n",
            "  -0.24099883 -0.22941165  0.51732126  0.5170125 ]]\n"
          ]
        }
      ],
      "source": [
        "X = np.random.rand(5, 10)\n",
        "Y = X - X.mean(axis=1, keepdims=True)\n",
        "\n",
        "print(Y)"
      ]
    },
    {
      "cell_type": "markdown",
      "metadata": {
        "id": "AMRTVgK7fJAB"
      },
      "source": [
        "#### 59. How to sort an array by the nth column? (★★☆) \n",
        "(**hint**: argsort)"
      ]
    },
    {
      "cell_type": "code",
      "execution_count": 72,
      "metadata": {
        "id": "aH4XY1l5fJAB",
        "colab": {
          "base_uri": "https://localhost:8080/"
        },
        "outputId": "92d25d74-31c6-4f95-8149-79358ba8dbd7"
      },
      "outputs": [
        {
          "output_type": "stream",
          "name": "stdout",
          "text": [
            "[[2 1 3]\n",
            " [1 4 0]\n",
            " [2 0 5]]\n",
            "[[2 0 5]\n",
            " [2 1 3]\n",
            " [1 4 0]]\n"
          ]
        }
      ],
      "source": [
        "A = np.random.randint(0,10,(3,3))\n",
        "print(A)\n",
        "print(A[A[:,1].argsort()])"
      ]
    },
    {
      "cell_type": "markdown",
      "metadata": {
        "id": "a_0lQKXpfJAC"
      },
      "source": [
        "#### 60. How to tell if a given 2D array has null columns? (★★☆) \n",
        "(**hint**: any, ~)"
      ]
    },
    {
      "cell_type": "code",
      "execution_count": 71,
      "metadata": {
        "id": "fjOmGiYzfJAC",
        "colab": {
          "base_uri": "https://localhost:8080/"
        },
        "outputId": "32225cef-6017-48e6-c02d-7c24dac72b8c"
      },
      "outputs": [
        {
          "output_type": "stream",
          "name": "stdout",
          "text": [
            "False\n"
          ]
        }
      ],
      "source": [
        "A = np.random.randint(0,3,(3,10))\n",
        "print((~A.any(axis=0)).any())"
      ]
    },
    {
      "cell_type": "markdown",
      "metadata": {
        "id": "fuoMNKnofJAC"
      },
      "source": [
        "#### 61. Find the nearest value from a given value in an array (★★☆) \n",
        "(**hint**: np.abs, argmin, flat)"
      ]
    },
    {
      "cell_type": "code",
      "execution_count": 70,
      "metadata": {
        "id": "BDEH6TePfJAC",
        "colab": {
          "base_uri": "https://localhost:8080/"
        },
        "outputId": "db1ab621-3fb2-4bd3-f092-efd852ddbaf3"
      },
      "outputs": [
        {
          "output_type": "stream",
          "name": "stdout",
          "text": [
            "0.5068266404521414\n"
          ]
        }
      ],
      "source": [
        "A = np.random.uniform(0,1,10)\n",
        "z = 0.5\n",
        "m = A.flat[np.abs(A - z).argmin()]\n",
        "print(m)"
      ]
    },
    {
      "cell_type": "markdown",
      "metadata": {
        "id": "TXlo2W5xfJAC"
      },
      "source": [
        "#### 62. Considering two arrays with shape (1,3) and (3,1), how to compute their sum using an iterator? (★★☆) \n",
        "(**hint**: np.nditer)"
      ]
    },
    {
      "cell_type": "code",
      "execution_count": 69,
      "metadata": {
        "id": "vJm_dPoyfJAC",
        "colab": {
          "base_uri": "https://localhost:8080/"
        },
        "outputId": "4eafd3c1-e576-456e-f003-a4fe3333d7ec"
      },
      "outputs": [
        {
          "output_type": "stream",
          "name": "stdout",
          "text": [
            "[[0 1 2]\n",
            " [1 2 3]\n",
            " [2 3 4]]\n"
          ]
        }
      ],
      "source": [
        "A = np.arange(3).reshape(3,1)\n",
        "B = np.arange(3).reshape(1,3)\n",
        "it = np.nditer([A,B,None])\n",
        "for x,y,z in it: z[...] = x + y\n",
        "print(it.operands[2])"
      ]
    },
    {
      "cell_type": "markdown",
      "metadata": {
        "id": "vcK8B4BefJAC"
      },
      "source": [
        "#### 63. Create an array class that has a name attribute (★★☆) \n",
        "(**hint**: class method)"
      ]
    },
    {
      "cell_type": "code",
      "execution_count": 68,
      "metadata": {
        "id": "4Okx7tc6fJAC",
        "colab": {
          "base_uri": "https://localhost:8080/"
        },
        "outputId": "0b571125-0b8a-4a0f-ad18-32cbbc8576a4"
      },
      "outputs": [
        {
          "output_type": "stream",
          "name": "stdout",
          "text": [
            "range_10\n"
          ]
        }
      ],
      "source": [
        "class NamedArray(np.ndarray):\n",
        "    def __new__(cls, array, name=\"no name\"):\n",
        "        obj = np.asarray(array).view(cls)\n",
        "        obj.name = name\n",
        "        return obj\n",
        "    def __array_finalize__(self, obj):\n",
        "        if obj is None: return\n",
        "        self.info = getattr(obj, 'name', \"no name\")\n",
        "\n",
        "A = NamedArray(np.arange(10), \"range_10\")\n",
        "print(A.name)"
      ]
    },
    {
      "cell_type": "markdown",
      "metadata": {
        "id": "oWG1WWkWfJAC"
      },
      "source": [
        "#### 64. Consider a given vector, how to add 1 to each element indexed by a second vector (be careful with repeated indices)? (★★★) \n",
        "(**hint**: np.bincount | np.add.at)"
      ]
    },
    {
      "cell_type": "code",
      "execution_count": 67,
      "metadata": {
        "id": "uFxqsBO8fJAC",
        "colab": {
          "base_uri": "https://localhost:8080/"
        },
        "outputId": "eccebcbe-a013-454a-95dd-cf340303888d"
      },
      "outputs": [
        {
          "output_type": "stream",
          "name": "stdout",
          "text": [
            "[4. 4. 1. 3. 3. 5. 4. 1. 3. 2.]\n",
            "[7. 7. 1. 5. 5. 9. 7. 1. 5. 3.]\n"
          ]
        }
      ],
      "source": [
        "A = np.ones(10)\n",
        "I = np.random.randint(0,len(A),20)\n",
        "A += np.bincount(I, minlength=len(A))\n",
        "print(A)\n",
        "\n",
        "# Alternate mehod\n",
        "\n",
        "np.add.at(A, I, 1)\n",
        "print(A)"
      ]
    },
    {
      "cell_type": "markdown",
      "metadata": {
        "id": "Z7HTAg8hfJAD"
      },
      "source": [
        "#### 65. How to accumulate elements of a vector (X) to an array (F) based on an index list (I)? (★★★) \n",
        "(**hint**: np.bincount)"
      ]
    },
    {
      "cell_type": "code",
      "execution_count": 66,
      "metadata": {
        "id": "dCHhmIYWfJAD",
        "colab": {
          "base_uri": "https://localhost:8080/"
        },
        "outputId": "34b3dcb2-a411-441d-c924-bf17608b54f6"
      },
      "outputs": [
        {
          "output_type": "stream",
          "name": "stdout",
          "text": [
            "[0. 7. 0. 6. 5. 0. 0. 0. 0. 3.]\n"
          ]
        }
      ],
      "source": [
        "X = [1,2,3,4,5,6]\n",
        "I = [1,3,9,3,4,1]\n",
        "F = np.bincount(I,X)\n",
        "print(F)\n"
      ]
    },
    {
      "cell_type": "markdown",
      "metadata": {
        "id": "HjwwGn5tfJAD"
      },
      "source": [
        "#### 66. Considering a (w,h,3) image of (dtype=ubyte), compute the number of unique colors (★★★) \n",
        "(**hint**: np.unique)"
      ]
    },
    {
      "cell_type": "code",
      "execution_count": 65,
      "metadata": {
        "id": "L96qeB0QfJAD",
        "colab": {
          "base_uri": "https://localhost:8080/"
        },
        "outputId": "5cce091b-8a62-4803-e732-b9f5291ddc1c"
      },
      "outputs": [
        {
          "output_type": "stream",
          "name": "stdout",
          "text": [
            "64\n"
          ]
        }
      ],
      "source": [
        "w, h = 256, 256\n",
        "I = np.random.randint(0, 4, (h, w, 3)).astype(np.ubyte)\n",
        "colors = np.unique(I.reshape(-1, 3), axis=0)\n",
        "n = len(colors)\n",
        "print(n)"
      ]
    },
    {
      "cell_type": "markdown",
      "metadata": {
        "id": "FN6sLdFFfJAD"
      },
      "source": [
        "#### 67. Considering a four dimensions array, how to get sum over the last two axis at once? (★★★) \n",
        "(**hint**: sum(axis=(-2,-1)))"
      ]
    },
    {
      "cell_type": "code",
      "execution_count": 64,
      "metadata": {
        "id": "LbPtkzOFfJAD",
        "colab": {
          "base_uri": "https://localhost:8080/"
        },
        "outputId": "8c554bfb-6c7f-490d-daf6-051b6c4dc2f7"
      },
      "outputs": [
        {
          "output_type": "stream",
          "name": "stdout",
          "text": [
            "[[62 67 43 44]\n",
            " [41 39 73 58]\n",
            " [53 62 44 58]]\n",
            "[[62 67 43 44]\n",
            " [41 39 73 58]\n",
            " [53 62 44 58]]\n"
          ]
        }
      ],
      "source": [
        "A = np.random.randint(0,10,(3,4,3,4))\n",
        "sum = A.sum(axis=(-2,-1))\n",
        "print(sum)\n",
        "#Alternate method\n",
        "sum = A.reshape(A.shape[:-2] + (-1,)).sum(axis=-1)\n",
        "print(sum)"
      ]
    },
    {
      "cell_type": "markdown",
      "metadata": {
        "id": "_DSljrgFfJAD"
      },
      "source": [
        "#### 68. Considering a one-dimensional vector D, how to compute means of subsets of D using a vector S of same size describing subset  indices? (★★★) \n",
        "(**hint**: np.bincount)"
      ]
    },
    {
      "cell_type": "code",
      "execution_count": 63,
      "metadata": {
        "id": "VYVGJsRAfJAD",
        "colab": {
          "base_uri": "https://localhost:8080/"
        },
        "outputId": "ec135aee-a906-44eb-c223-f58bb02fd2fd"
      },
      "outputs": [
        {
          "output_type": "stream",
          "name": "stdout",
          "text": [
            "[0.34426879 0.4799694  0.51677948 0.4119644  0.42199182 0.53654333\n",
            " 0.41981467 0.56228712 0.69742557 0.55747198]\n"
          ]
        }
      ],
      "source": [
        "D = np.random.uniform(0,1,100)\n",
        "S = np.random.randint(0,10,100)\n",
        "D_sums = np.bincount(S, weights=D)\n",
        "D_counts = np.bincount(S)\n",
        "D_means = D_sums / D_counts\n",
        "print(D_means)"
      ]
    },
    {
      "cell_type": "markdown",
      "metadata": {
        "id": "wyS3a9eTfJAD"
      },
      "source": [
        "#### 69. How to get the diagonal of a dot product? (★★★) \n",
        "(**hint**: np.diag)"
      ]
    },
    {
      "cell_type": "code",
      "execution_count": 62,
      "metadata": {
        "id": "c2Enot8AfJAE",
        "colab": {
          "base_uri": "https://localhost:8080/"
        },
        "outputId": "935f0e20-0e82-4952-89ed-4a5603ee70d7"
      },
      "outputs": [
        {
          "output_type": "execute_result",
          "data": {
            "text/plain": [
              "array([0.5134566 , 1.11753948, 0.83876431, 1.17240898, 2.33547153])"
            ]
          },
          "metadata": {},
          "execution_count": 62
        }
      ],
      "source": [
        "A = np.random.uniform(0,1,(5,5))\n",
        "B = np.random.uniform(0,1,(5,5))\n",
        "np.diag(np.dot(A, B))\n"
      ]
    },
    {
      "cell_type": "markdown",
      "metadata": {
        "id": "-3fiYbBLfJAE"
      },
      "source": [
        "#### 70. Consider the vector \\[1, 2, 3, 4, 5\\], how to build a new vector with 3 consecutive zeros interleaved between each value? (★★★) \n",
        "(**hint**: array\\[::4\\])"
      ]
    },
    {
      "cell_type": "code",
      "execution_count": 61,
      "metadata": {
        "id": "LOs2m767fJAE",
        "colab": {
          "base_uri": "https://localhost:8080/"
        },
        "outputId": "2fc4133f-fc57-4381-da3b-fed7205d955e"
      },
      "outputs": [
        {
          "output_type": "stream",
          "name": "stdout",
          "text": [
            "[1. 0. 0. 0. 2. 0. 0. 0. 3. 0. 0. 0. 4. 0. 0. 0. 5.]\n"
          ]
        }
      ],
      "source": [
        "Z = np.array([1,2,3,4,5])\n",
        "nz = 3\n",
        "Z0 = np.zeros(len(Z) + (len(Z)-1)*(nz))\n",
        "Z0[::nz+1] = Z\n",
        "print(Z0)"
      ]
    },
    {
      "cell_type": "markdown",
      "metadata": {
        "id": "E_eiUlx3fJAE"
      },
      "source": [
        "#### 71. Consider an array of dimension (5,5,3), how to mulitply it by an array with dimensions (5,5)? (★★★) \n",
        "(**hint**: array\\[:, :, None\\])"
      ]
    },
    {
      "cell_type": "code",
      "execution_count": 59,
      "metadata": {
        "collapsed": true,
        "id": "mZH4CcE9fJAE",
        "colab": {
          "base_uri": "https://localhost:8080/"
        },
        "outputId": "a16fc292-1953-4bf3-e795-9e5cfd952311"
      },
      "outputs": [
        {
          "output_type": "stream",
          "name": "stdout",
          "text": [
            "[[[2. 2. 2.]\n",
            "  [2. 2. 2.]\n",
            "  [2. 2. 2.]\n",
            "  [2. 2. 2.]\n",
            "  [2. 2. 2.]]\n",
            "\n",
            " [[2. 2. 2.]\n",
            "  [2. 2. 2.]\n",
            "  [2. 2. 2.]\n",
            "  [2. 2. 2.]\n",
            "  [2. 2. 2.]]\n",
            "\n",
            " [[2. 2. 2.]\n",
            "  [2. 2. 2.]\n",
            "  [2. 2. 2.]\n",
            "  [2. 2. 2.]\n",
            "  [2. 2. 2.]]\n",
            "\n",
            " [[2. 2. 2.]\n",
            "  [2. 2. 2.]\n",
            "  [2. 2. 2.]\n",
            "  [2. 2. 2.]\n",
            "  [2. 2. 2.]]\n",
            "\n",
            " [[2. 2. 2.]\n",
            "  [2. 2. 2.]\n",
            "  [2. 2. 2.]\n",
            "  [2. 2. 2.]\n",
            "  [2. 2. 2.]]]\n"
          ]
        }
      ],
      "source": [
        "A = np.ones((5,5,3))\n",
        "B = 2*np.ones((5,5))\n",
        "print(A * B[:,:,None])"
      ]
    },
    {
      "cell_type": "markdown",
      "metadata": {
        "id": "gXeBotELfJAE"
      },
      "source": [
        "#### 72. How to swap two rows of an array? (★★★) \n",
        "(**hint**: array\\[\\[\\]\\] = array\\[\\[\\]\\])"
      ]
    },
    {
      "cell_type": "code",
      "execution_count": 58,
      "metadata": {
        "id": "uUI5WFzDfJAE",
        "colab": {
          "base_uri": "https://localhost:8080/"
        },
        "outputId": "43438f09-4569-4040-a1c7-70e41679a8af"
      },
      "outputs": [
        {
          "output_type": "stream",
          "name": "stdout",
          "text": [
            "[[ 5  6  7  8  9]\n",
            " [ 0  1  2  3  4]\n",
            " [10 11 12 13 14]\n",
            " [15 16 17 18 19]\n",
            " [20 21 22 23 24]]\n"
          ]
        }
      ],
      "source": [
        "A = np.arange(25).reshape(5,5)\n",
        "A[[0,1]] = A[[1,0]]\n",
        "print(A)\n"
      ]
    },
    {
      "cell_type": "markdown",
      "metadata": {
        "id": "qFYn_Qg-fJAE"
      },
      "source": [
        "#### 73. Consider a set of 10 triplets describing 10 triangles (with shared vertices), find the set of unique line segments composing all the  triangles (★★★) \n",
        "(**hint**: repeat, np.roll, np.sort, view, np.unique)"
      ]
    },
    {
      "cell_type": "code",
      "execution_count": 57,
      "metadata": {
        "id": "2YcCG3RXfJAE",
        "colab": {
          "base_uri": "https://localhost:8080/"
        },
        "outputId": "72bcca6d-956e-4163-ac69-364d071d4a5c"
      },
      "outputs": [
        {
          "output_type": "stream",
          "name": "stdout",
          "text": [
            "[( 3, 17) ( 3, 48) ( 9, 13) ( 9, 70) (11, 17) (11, 45) (11, 48) (11, 76)\n",
            " (13, 70) (17, 48) (26, 37) (26, 74) (27, 37) (27, 53) (37, 53) (37, 74)\n",
            " (40, 41) (40, 59) (40, 65) (40, 69) (41, 59) (43, 85) (43, 91) (45, 76)\n",
            " (62, 66) (62, 94) (65, 69) (66, 94) (85, 91)]\n"
          ]
        }
      ],
      "source": [
        "faces = np.random.randint(0,100,(10,3))\n",
        "F = np.roll(faces.repeat(2,axis=1),-1,axis=1)\n",
        "F = F.reshape(len(F)*3,2)\n",
        "F = np.sort(F,axis=1)\n",
        "G = F.view( dtype=[('p0',F.dtype),('p1',F.dtype)] )\n",
        "G = np.unique(G)\n",
        "print(G)\n"
      ]
    },
    {
      "cell_type": "markdown",
      "metadata": {
        "id": "WTcBhxXyfJAF"
      },
      "source": [
        "#### 74. Given an array C that is a bincount, how to produce an array A such that np.bincount(A) == C? (★★★) \n",
        "(**hint**: np.repeat)"
      ]
    },
    {
      "cell_type": "code",
      "execution_count": 56,
      "metadata": {
        "id": "QnFsoej8fJAF",
        "colab": {
          "base_uri": "https://localhost:8080/"
        },
        "outputId": "705b5fb6-036b-48eb-cb98-01100c949b1e"
      },
      "outputs": [
        {
          "output_type": "stream",
          "name": "stdout",
          "text": [
            "[1 1 2 3 4 4 6]\n"
          ]
        }
      ],
      "source": [
        "C = np.bincount([1,1,2,3,4,4,6])\n",
        "A = np.repeat(np.arange(len(C)), C)\n",
        "print(A)"
      ]
    },
    {
      "cell_type": "markdown",
      "metadata": {
        "id": "7Dgw3t9UfJAF"
      },
      "source": [
        "#### 75. How to compute averages using a sliding window over an array? (★★★) \n",
        "(**hint**: np.cumsum)"
      ]
    },
    {
      "cell_type": "code",
      "execution_count": 55,
      "metadata": {
        "id": "dvb_5TqrfJAF",
        "colab": {
          "base_uri": "https://localhost:8080/"
        },
        "outputId": "6ad1794a-3320-483f-bdd0-79c294b784df"
      },
      "outputs": [
        {
          "output_type": "stream",
          "name": "stdout",
          "text": [
            "[ 1.  2.  3.  4.  5.  6.  7.  8.  9. 10. 11. 12. 13. 14. 15. 16. 17. 18.]\n"
          ]
        }
      ],
      "source": [
        "from numpy.lib.stride_tricks import sliding_window_view\n",
        "A = np.arange(20)\n",
        "print(sliding_window_view(A, window_shape=3).mean(axis=-1))"
      ]
    },
    {
      "cell_type": "markdown",
      "metadata": {
        "id": "R23EVzWsfJAF"
      },
      "source": [
        "#### 76. Consider a one-dimensional array Z, build a two-dimensional array whose first row is (Z\\[0\\],Z\\[1\\],Z\\[2\\]) and each subsequent row is  shifted by 1 (last row should be (Z\\[-3\\],Z\\[-2\\],Z\\[-1\\]) (★★★) \n",
        "(**hint**: from numpy.lib import stride_tricks)"
      ]
    },
    {
      "cell_type": "code",
      "execution_count": 54,
      "metadata": {
        "id": "jym7ATG8fJAF",
        "colab": {
          "base_uri": "https://localhost:8080/"
        },
        "outputId": "7acd5a99-8dfc-4f7f-ab8a-c9bd53703546"
      },
      "outputs": [
        {
          "output_type": "stream",
          "name": "stdout",
          "text": [
            "[[0 1 2]\n",
            " [1 2 3]\n",
            " [2 3 4]\n",
            " [3 4 5]\n",
            " [4 5 6]\n",
            " [5 6 7]\n",
            " [6 7 8]\n",
            " [7 8 9]]\n"
          ]
        }
      ],
      "source": [
        "A = np.arange(10)\n",
        "print(sliding_window_view(A, window_shape=3))"
      ]
    },
    {
      "cell_type": "markdown",
      "metadata": {
        "id": "vmlrA-r3fJAF"
      },
      "source": [
        "#### 77. How to negate a boolean, or to change the sign of a float inplace? (★★★) \n",
        "(**hint**: np.logical_not, np.negative)"
      ]
    },
    {
      "cell_type": "code",
      "execution_count": 53,
      "metadata": {
        "id": "9q29iQ9jfJAF",
        "colab": {
          "base_uri": "https://localhost:8080/"
        },
        "outputId": "275d6288-1856-4273-df7e-a9a26c1429b7"
      },
      "outputs": [
        {
          "output_type": "execute_result",
          "data": {
            "text/plain": [
              "array([ 0.72434103, -0.24739994, -0.07900092, -0.82205492,  0.90335629,\n",
              "       -0.23925062,  0.51218398, -0.76563696,  0.53976093, -0.39961386,\n",
              "        0.28383356,  0.59448847,  0.30131371, -0.20138933,  0.55587536,\n",
              "       -0.46947766,  0.01892541, -0.43648684,  0.33323366,  0.74829439,\n",
              "        0.47232051,  0.81777101,  0.39910175,  0.01855399,  0.35926352,\n",
              "        0.83944352,  0.95483717,  0.65555343,  0.27772233,  0.06771798,\n",
              "       -0.68072932,  0.35433561, -0.99161094,  0.98190709, -0.1676032 ,\n",
              "       -0.73953378, -0.52961607,  0.87080577, -0.1964199 ,  0.33001289,\n",
              "        0.8868864 , -0.91017717, -0.89685559,  0.82562582,  0.87475064,\n",
              "       -0.41692996,  0.19722594, -0.82995585, -0.48409161, -0.89343848,\n",
              "       -0.26869799,  0.95061178,  0.31926437,  0.49165063, -0.89454892,\n",
              "        0.45291436,  0.79258485,  0.00609504,  0.18707268, -0.30678323,\n",
              "        0.33383112,  0.00863132, -0.77677572, -0.71327303, -0.91286108,\n",
              "        0.39611092,  0.15090597,  0.66179775,  0.8787384 ,  0.23387612,\n",
              "       -0.60456348, -0.55599687, -0.56776175, -0.37549747,  0.92719022,\n",
              "        0.14867396,  0.58009805,  0.07308952,  0.22872397,  0.42402093,\n",
              "        0.48451802,  0.52178947, -0.26818985,  0.35286471, -0.25875805,\n",
              "       -0.99412888, -0.71498616, -0.29647686, -0.43527381, -0.73748379,\n",
              "        0.07731613, -0.41144252, -0.76663139,  0.14634575, -0.34155158,\n",
              "        0.42943146,  0.22479784,  0.58207944,  0.16237512, -0.79582265])"
            ]
          },
          "metadata": {},
          "execution_count": 53
        }
      ],
      "source": [
        "A = np.random.randint(0,2,100)\n",
        "np.logical_not(A, out=A)\n",
        "\n",
        "A = np.random.uniform(-1.0,1.0,100)\n",
        "np.negative(A, out=A)"
      ]
    },
    {
      "cell_type": "markdown",
      "metadata": {
        "id": "dfrYFuCGfJAF"
      },
      "source": [
        "#### 78. Consider 2 sets of points P0,P1 describing lines (2d) and a point p, how to compute distance from p to each line i  (P0\\[i\\],P1\\[i\\])? (★★★)"
      ]
    },
    {
      "cell_type": "code",
      "execution_count": 23,
      "metadata": {
        "id": "a-dAifwbfJAF",
        "colab": {
          "base_uri": "https://localhost:8080/"
        },
        "outputId": "d4bdc191-7eec-4cde-8dc7-cbe1f45465dd"
      },
      "outputs": [
        {
          "output_type": "stream",
          "name": "stdout",
          "text": [
            "[ 7.48601265  3.06589323  0.27523164 11.98484483  1.40742022  0.47921399\n",
            "  2.21767596  0.76745952  1.86185249  4.82871972]\n"
          ]
        }
      ],
      "source": [
        "def distance(P0, P1, p):\n",
        "    T = P1 - P0\n",
        "    L = (T**2).sum(axis=1)\n",
        "    U = -((P0[:,0]-p[...,0])*T[:,0] + (P0[:,1]-p[...,1])*T[:,1]) / L\n",
        "    U = U.reshape(len(U),1)\n",
        "    D = P0 + U*T - p\n",
        "    return np.sqrt((D**2).sum(axis=1))\n",
        "\n",
        "P0 = np.random.uniform(-10,10,(10,2))\n",
        "P1 = np.random.uniform(-10,10,(10,2))\n",
        "p  = np.random.uniform(-10,10,( 1,2))\n",
        "print(distance(P0, P1, p))"
      ]
    },
    {
      "cell_type": "markdown",
      "metadata": {
        "id": "NOu_qSOofJAG"
      },
      "source": [
        "#### 79. Consider 2 sets of points P0,P1 describing lines (2d) and a set of points P, how to compute distance from each point j (P\\[j\\]) to each line i (P0\\[i\\],P1\\[i\\])? (★★★)"
      ]
    },
    {
      "cell_type": "code",
      "execution_count": 52,
      "metadata": {
        "id": "L4YFf1DgfJAG",
        "colab": {
          "base_uri": "https://localhost:8080/"
        },
        "outputId": "9be56326-29a9-4d61-c696-ca5e40dc3c19"
      },
      "outputs": [
        {
          "output_type": "stream",
          "name": "stdout",
          "text": [
            "[[2.79919473e+00 3.00462938e+00 3.22133900e+00 7.29175435e+00\n",
            "  9.22812995e+00 3.25621131e+00 3.17805463e+00 1.08239723e+01\n",
            "  9.43659721e+00 1.16326190e+01]\n",
            " [6.24401375e+00 1.16500657e+01 5.75066211e+00 2.52821175e+00\n",
            "  4.44531021e+00 1.29757890e+01 6.10285806e+00 3.13820533e+00\n",
            "  4.01260609e+00 2.21522667e+00]\n",
            " [6.20242445e+00 6.96265067e-01 5.41086832e+00 1.15111206e+00\n",
            "  6.94383324e+00 3.92936878e-01 1.17268616e+01 6.32923869e+00\n",
            "  3.39435383e+00 8.74753440e+00]\n",
            " [7.27692563e+00 1.27973103e+01 2.48676645e+00 6.85176046e-01\n",
            "  3.35358418e+00 1.38022163e+01 2.99077966e+00 1.25123396e+00\n",
            "  1.58332065e+00 9.05420297e-01]\n",
            " [7.97700833e+00 1.33573059e+01 6.11515019e+00 3.04055799e+00\n",
            "  6.22733549e+00 1.47487618e+01 5.57465925e+00 4.71391334e+00\n",
            "  5.33719470e+00 3.95548586e+00]\n",
            " [3.20974460e+00 2.19921346e+00 7.45565900e+00 3.46653193e+00\n",
            "  2.99076600e+00 3.54829498e+00 1.19520328e+01 2.45912390e+00\n",
            "  2.01746604e-01 4.78804650e+00]\n",
            " [9.27418751e-01 6.27477659e+00 8.32894015e+00 4.69282755e+00\n",
            "  1.26539183e+00 7.78110581e+00 1.06935929e+01 1.30510120e+00\n",
            "  3.36683084e+00 6.31422129e-01]\n",
            " [4.40327528e+00 1.30279806e+00 2.94836846e-01 4.46683976e+00\n",
            "  8.85815844e+00 1.83106498e+00 6.28963782e+00 9.63271418e+00\n",
            "  7.64476522e+00 1.10428588e+01]\n",
            " [1.06302868e+01 1.61117297e+01 2.89964581e+00 1.06502774e-02\n",
            "  6.62090031e+00 1.72135899e+01 1.73374606e+00 4.06285452e+00\n",
            "  3.87604179e+00 4.07569139e+00]\n",
            " [2.98871982e+00 8.22289664e+00 1.09783417e+01 7.54204436e+00\n",
            "  4.75601762e+00 1.00365605e+01 1.18458783e+01 4.97824950e+00\n",
            "  6.99121515e+00 2.93249502e+00]]\n"
          ]
        }
      ],
      "source": [
        "P0 = np.random.uniform(-10, 10, (10,2))\n",
        "P1 = np.random.uniform(-10,10,(10,2))\n",
        "p = np.random.uniform(-10, 10, (10,2))\n",
        "print(np.array([distance(P0,P1,p_i) for p_i in p]))"
      ]
    },
    {
      "cell_type": "markdown",
      "metadata": {
        "id": "ZMAPXua2fJAG"
      },
      "source": [
        "#### 80. Consider an arbitrary array, write a function that extract a subpart with a fixed shape and centered on a given element (pad with a `fill` value when necessary) (★★★) \n",
        "(**hint**: minimum, maximum)"
      ]
    },
    {
      "cell_type": "code",
      "execution_count": 50,
      "metadata": {
        "id": "FooABIJ4fJAG",
        "colab": {
          "base_uri": "https://localhost:8080/"
        },
        "outputId": "1ebbb378-6fcc-4602-adb9-4e955cf5f302"
      },
      "outputs": [
        {
          "output_type": "stream",
          "name": "stdout",
          "text": [
            "[[9 0 9 6 8 0 6 6 5 1]\n",
            " [0 7 8 2 6 4 8 7 3 0]\n",
            " [3 6 5 3 7 3 1 7 7 2]\n",
            " [4 1 8 5 1 6 7 7 6 5]\n",
            " [6 2 9 9 5 0 4 6 6 4]\n",
            " [8 6 9 7 4 0 3 9 2 8]\n",
            " [8 8 6 0 5 1 3 9 0 4]\n",
            " [1 1 8 3 1 0 3 1 2 2]\n",
            " [7 4 0 3 3 0 5 4 3 2]\n",
            " [4 8 0 2 1 4 6 5 8 3]]\n",
            "[[0 0 0 0 0]\n",
            " [0 9 0 9 6]\n",
            " [0 0 7 8 2]\n",
            " [0 3 6 5 3]\n",
            " [0 4 1 8 5]]\n"
          ]
        },
        {
          "output_type": "stream",
          "name": "stderr",
          "text": [
            "/usr/local/lib/python3.7/dist-packages/ipykernel_launcher.py:23: FutureWarning: Using a non-tuple sequence for multidimensional indexing is deprecated; use `arr[tuple(seq)]` instead of `arr[seq]`. In the future this will be interpreted as an array index, `arr[np.array(seq)]`, which will result either in an error or a different result.\n"
          ]
        }
      ],
      "source": [
        "Z = np.random.randint(0,10,(10,10))\n",
        "shape = (5,5)\n",
        "fill  = 0\n",
        "position = (1,1)\n",
        "\n",
        "R = np.ones(shape, dtype=Z.dtype)*fill\n",
        "P  = np.array(list(position)).astype(int)\n",
        "Rs = np.array(list(R.shape)).astype(int)\n",
        "Zs = np.array(list(Z.shape)).astype(int)\n",
        "\n",
        "R_start = np.zeros((len(shape),)).astype(int)\n",
        "R_stop  = np.array(list(shape)).astype(int)\n",
        "Z_start = (P-Rs//2)\n",
        "Z_stop  = (P+Rs//2)+Rs%2\n",
        "\n",
        "R_start = (R_start - np.minimum(Z_start,0)).tolist()\n",
        "Z_start = (np.maximum(Z_start,0)).tolist()\n",
        "R_stop = np.maximum(R_start, (R_stop - np.maximum(Z_stop-Zs,0))).tolist()\n",
        "Z_stop = (np.minimum(Z_stop,Zs)).tolist()\n",
        "\n",
        "r = [slice(start,stop) for start,stop in zip(R_start,R_stop)]\n",
        "z = [slice(start,stop) for start,stop in zip(Z_start,Z_stop)]\n",
        "R[r] = Z[z]\n",
        "print(Z)\n",
        "print(R)"
      ]
    },
    {
      "cell_type": "markdown",
      "metadata": {
        "id": "EyQy4HGDfJAG"
      },
      "source": [
        "#### 81. Consider an array Z = \\[1,2,3,4,5,6,7,8,9,10,11,12,13,14\\], how to generate an array R = \\[\\[1,2,3,4\\], \\[2,3,4,5\\], \\[3,4,5,6\\], ..., \\[11,12,13,14\\]\\]? (★★★) \n",
        "(**hint**: stride\\_tricks.as\\_strided)"
      ]
    },
    {
      "cell_type": "code",
      "execution_count": 49,
      "metadata": {
        "id": "RY2WKH3ufJAG",
        "colab": {
          "base_uri": "https://localhost:8080/"
        },
        "outputId": "27e71bc6-786c-431f-dca3-a986afda0a47"
      },
      "outputs": [
        {
          "output_type": "stream",
          "name": "stdout",
          "text": [
            "[[ 1  2  3  4]\n",
            " [ 2  3  4  5]\n",
            " [ 3  4  5  6]\n",
            " [ 4  5  6  7]\n",
            " [ 5  6  7  8]\n",
            " [ 6  7  8  9]\n",
            " [ 7  8  9 10]\n",
            " [ 8  9 10 11]\n",
            " [ 9 10 11 12]\n",
            " [10 11 12 13]\n",
            " [11 12 13 14]]\n"
          ]
        }
      ],
      "source": [
        "A = np.arange(1, 15, dtype=np.uint32)\n",
        "print(sliding_window_view(A, window_shape=4))"
      ]
    },
    {
      "cell_type": "markdown",
      "metadata": {
        "id": "3TW4_WWpfJAG"
      },
      "source": [
        "#### 82. Compute a matrix rank (★★★) \n",
        "(**hint**: np.linalg.svd) (suggestion: np.linalg.svd)"
      ]
    },
    {
      "cell_type": "code",
      "execution_count": 48,
      "metadata": {
        "id": "_5yr0oD5fJAG",
        "colab": {
          "base_uri": "https://localhost:8080/"
        },
        "outputId": "ec172c50-eb2e-4406-a963-9f056df5e696"
      },
      "outputs": [
        {
          "output_type": "stream",
          "name": "stdout",
          "text": [
            "10\n"
          ]
        }
      ],
      "source": [
        "A = np.random.uniform(0,1,(10,10))\n",
        "U, S, V = np.linalg.svd(A)\n",
        "rank = np.sum(S > 1e-10)\n",
        "print(rank)"
      ]
    },
    {
      "cell_type": "markdown",
      "metadata": {
        "id": "oSjYdYUZfJAG"
      },
      "source": [
        "#### 83. How to find the most frequent value in an array? \n",
        "(**hint**: np.bincount, argmax)"
      ]
    },
    {
      "cell_type": "code",
      "execution_count": 47,
      "metadata": {
        "id": "smOft5zHfJAH",
        "colab": {
          "base_uri": "https://localhost:8080/"
        },
        "outputId": "74901f32-98de-4a56-db77-54878efaf196"
      },
      "outputs": [
        {
          "output_type": "stream",
          "name": "stdout",
          "text": [
            "8\n"
          ]
        }
      ],
      "source": [
        "A = np.random.randint(0,10,50)\n",
        "print(np.bincount(A).argmax())"
      ]
    },
    {
      "cell_type": "markdown",
      "metadata": {
        "id": "xHi5DlPEfJAH"
      },
      "source": [
        "#### 84. Extract all the contiguous 3x3 blocks from a random 10x10 matrix (★★★) \n",
        "(**hint**: stride\\_tricks.as\\_strided)"
      ]
    },
    {
      "cell_type": "code",
      "execution_count": 45,
      "metadata": {
        "id": "RuENctnNfJAH",
        "colab": {
          "base_uri": "https://localhost:8080/"
        },
        "outputId": "64145f58-7148-4d2d-9b73-4cc73d2af477"
      },
      "outputs": [
        {
          "output_type": "stream",
          "name": "stdout",
          "text": [
            "[[[[2 2 0]\n",
            "   [2 1 1]\n",
            "   [1 4 0]]\n",
            "\n",
            "  [[2 0 4]\n",
            "   [1 1 2]\n",
            "   [4 0 2]]\n",
            "\n",
            "  [[0 4 3]\n",
            "   [1 2 1]\n",
            "   [0 2 0]]\n",
            "\n",
            "  [[4 3 4]\n",
            "   [2 1 4]\n",
            "   [2 0 0]]\n",
            "\n",
            "  [[3 4 4]\n",
            "   [1 4 4]\n",
            "   [0 0 4]]\n",
            "\n",
            "  [[4 4 4]\n",
            "   [4 4 2]\n",
            "   [0 4 1]]\n",
            "\n",
            "  [[4 4 4]\n",
            "   [4 2 1]\n",
            "   [4 1 4]]\n",
            "\n",
            "  [[4 4 0]\n",
            "   [2 1 1]\n",
            "   [1 4 0]]]\n",
            "\n",
            "\n",
            " [[[2 1 1]\n",
            "   [1 4 0]\n",
            "   [4 2 3]]\n",
            "\n",
            "  [[1 1 2]\n",
            "   [4 0 2]\n",
            "   [2 3 1]]\n",
            "\n",
            "  [[1 2 1]\n",
            "   [0 2 0]\n",
            "   [3 1 4]]\n",
            "\n",
            "  [[2 1 4]\n",
            "   [2 0 0]\n",
            "   [1 4 4]]\n",
            "\n",
            "  [[1 4 4]\n",
            "   [0 0 4]\n",
            "   [4 4 3]]\n",
            "\n",
            "  [[4 4 2]\n",
            "   [0 4 1]\n",
            "   [4 3 2]]\n",
            "\n",
            "  [[4 2 1]\n",
            "   [4 1 4]\n",
            "   [3 2 2]]\n",
            "\n",
            "  [[2 1 1]\n",
            "   [1 4 0]\n",
            "   [2 2 2]]]\n",
            "\n",
            "\n",
            " [[[1 4 0]\n",
            "   [4 2 3]\n",
            "   [2 1 4]]\n",
            "\n",
            "  [[4 0 2]\n",
            "   [2 3 1]\n",
            "   [1 4 2]]\n",
            "\n",
            "  [[0 2 0]\n",
            "   [3 1 4]\n",
            "   [4 2 3]]\n",
            "\n",
            "  [[2 0 0]\n",
            "   [1 4 4]\n",
            "   [2 3 4]]\n",
            "\n",
            "  [[0 0 4]\n",
            "   [4 4 3]\n",
            "   [3 4 3]]\n",
            "\n",
            "  [[0 4 1]\n",
            "   [4 3 2]\n",
            "   [4 3 1]]\n",
            "\n",
            "  [[4 1 4]\n",
            "   [3 2 2]\n",
            "   [3 1 0]]\n",
            "\n",
            "  [[1 4 0]\n",
            "   [2 2 2]\n",
            "   [1 0 2]]]\n",
            "\n",
            "\n",
            " [[[4 2 3]\n",
            "   [2 1 4]\n",
            "   [1 4 2]]\n",
            "\n",
            "  [[2 3 1]\n",
            "   [1 4 2]\n",
            "   [4 2 0]]\n",
            "\n",
            "  [[3 1 4]\n",
            "   [4 2 3]\n",
            "   [2 0 4]]\n",
            "\n",
            "  [[1 4 4]\n",
            "   [2 3 4]\n",
            "   [0 4 2]]\n",
            "\n",
            "  [[4 4 3]\n",
            "   [3 4 3]\n",
            "   [4 2 0]]\n",
            "\n",
            "  [[4 3 2]\n",
            "   [4 3 1]\n",
            "   [2 0 4]]\n",
            "\n",
            "  [[3 2 2]\n",
            "   [3 1 0]\n",
            "   [0 4 1]]\n",
            "\n",
            "  [[2 2 2]\n",
            "   [1 0 2]\n",
            "   [4 1 3]]]\n",
            "\n",
            "\n",
            " [[[2 1 4]\n",
            "   [1 4 2]\n",
            "   [1 2 3]]\n",
            "\n",
            "  [[1 4 2]\n",
            "   [4 2 0]\n",
            "   [2 3 3]]\n",
            "\n",
            "  [[4 2 3]\n",
            "   [2 0 4]\n",
            "   [3 3 4]]\n",
            "\n",
            "  [[2 3 4]\n",
            "   [0 4 2]\n",
            "   [3 4 1]]\n",
            "\n",
            "  [[3 4 3]\n",
            "   [4 2 0]\n",
            "   [4 1 3]]\n",
            "\n",
            "  [[4 3 1]\n",
            "   [2 0 4]\n",
            "   [1 3 4]]\n",
            "\n",
            "  [[3 1 0]\n",
            "   [0 4 1]\n",
            "   [3 4 4]]\n",
            "\n",
            "  [[1 0 2]\n",
            "   [4 1 3]\n",
            "   [4 4 4]]]\n",
            "\n",
            "\n",
            " [[[1 4 2]\n",
            "   [1 2 3]\n",
            "   [2 0 0]]\n",
            "\n",
            "  [[4 2 0]\n",
            "   [2 3 3]\n",
            "   [0 0 0]]\n",
            "\n",
            "  [[2 0 4]\n",
            "   [3 3 4]\n",
            "   [0 0 2]]\n",
            "\n",
            "  [[0 4 2]\n",
            "   [3 4 1]\n",
            "   [0 2 0]]\n",
            "\n",
            "  [[4 2 0]\n",
            "   [4 1 3]\n",
            "   [2 0 0]]\n",
            "\n",
            "  [[2 0 4]\n",
            "   [1 3 4]\n",
            "   [0 0 0]]\n",
            "\n",
            "  [[0 4 1]\n",
            "   [3 4 4]\n",
            "   [0 0 1]]\n",
            "\n",
            "  [[4 1 3]\n",
            "   [4 4 4]\n",
            "   [0 1 1]]]\n",
            "\n",
            "\n",
            " [[[1 2 3]\n",
            "   [2 0 0]\n",
            "   [3 1 3]]\n",
            "\n",
            "  [[2 3 3]\n",
            "   [0 0 0]\n",
            "   [1 3 4]]\n",
            "\n",
            "  [[3 3 4]\n",
            "   [0 0 2]\n",
            "   [3 4 3]]\n",
            "\n",
            "  [[3 4 1]\n",
            "   [0 2 0]\n",
            "   [4 3 4]]\n",
            "\n",
            "  [[4 1 3]\n",
            "   [2 0 0]\n",
            "   [3 4 1]]\n",
            "\n",
            "  [[1 3 4]\n",
            "   [0 0 0]\n",
            "   [4 1 4]]\n",
            "\n",
            "  [[3 4 4]\n",
            "   [0 0 1]\n",
            "   [1 4 2]]\n",
            "\n",
            "  [[4 4 4]\n",
            "   [0 1 1]\n",
            "   [4 2 0]]]\n",
            "\n",
            "\n",
            " [[[2 0 0]\n",
            "   [3 1 3]\n",
            "   [3 0 3]]\n",
            "\n",
            "  [[0 0 0]\n",
            "   [1 3 4]\n",
            "   [0 3 0]]\n",
            "\n",
            "  [[0 0 2]\n",
            "   [3 4 3]\n",
            "   [3 0 1]]\n",
            "\n",
            "  [[0 2 0]\n",
            "   [4 3 4]\n",
            "   [0 1 2]]\n",
            "\n",
            "  [[2 0 0]\n",
            "   [3 4 1]\n",
            "   [1 2 1]]\n",
            "\n",
            "  [[0 0 0]\n",
            "   [4 1 4]\n",
            "   [2 1 2]]\n",
            "\n",
            "  [[0 0 1]\n",
            "   [1 4 2]\n",
            "   [1 2 0]]\n",
            "\n",
            "  [[0 1 1]\n",
            "   [4 2 0]\n",
            "   [2 0 1]]]]\n"
          ]
        }
      ],
      "source": [
        "from numpy.lib.stride_tricks import sliding_window_view\n",
        "\n",
        "Z = np.random.randint(0,5,(10,10))\n",
        "print(sliding_window_view(Z, window_shape=(3, 3)))"
      ]
    },
    {
      "cell_type": "markdown",
      "metadata": {
        "id": "Z25Nd5iCfJAH"
      },
      "source": [
        "#### 85. Create a 2D array subclass such that Z\\[i,j\\] == Z\\[j,i\\] (★★★) \n",
        "(**hint**: class method)"
      ]
    },
    {
      "cell_type": "code",
      "execution_count": 42,
      "metadata": {
        "id": "Ic_ACspvfJAH",
        "colab": {
          "base_uri": "https://localhost:8080/"
        },
        "outputId": "bae6f30d-c67f-449c-9695-d852253d9263"
      },
      "outputs": [
        {
          "output_type": "stream",
          "name": "stdout",
          "text": [
            "[[ 5  5 11  9  7]\n",
            " [ 5  6  8  9  7]\n",
            " [11  8  5 42 10]\n",
            " [ 9  9 42  6 12]\n",
            " [ 7  7 10 12  1]]\n"
          ]
        }
      ],
      "source": [
        "class Symetric(np.ndarray):\n",
        "    def __setitem__(self, index, value):\n",
        "        i,j = index\n",
        "        super(Symetric, self).__setitem__((i,j), value)\n",
        "        super(Symetric, self).__setitem__((j,i), value)\n",
        "\n",
        "def symetric(Z):\n",
        "    return np.asarray(Z + Z.T - np.diag(Z.diagonal())).view(Symetric)\n",
        "\n",
        "S = symetric(np.random.randint(0,10,(5,5)))\n",
        "S[2,3] = 42\n",
        "print(S)"
      ]
    },
    {
      "cell_type": "markdown",
      "metadata": {
        "id": "W_5JT3_hfJAH"
      },
      "source": [
        "#### 86. Consider a set of p matrices wich shape (n,n) and a set of p vectors with shape (n,1). How to compute the sum of of the p matrix products at once? (result has shape (n,1)) (★★★) \n",
        "(**hint**: np.tensordot)"
      ]
    },
    {
      "cell_type": "code",
      "execution_count": 41,
      "metadata": {
        "id": "moRdhsihfJAH",
        "colab": {
          "base_uri": "https://localhost:8080/"
        },
        "outputId": "742774a7-beec-4de1-ac0f-1937cef0a4ab"
      },
      "outputs": [
        {
          "output_type": "stream",
          "name": "stdout",
          "text": [
            "[[200.]\n",
            " [200.]\n",
            " [200.]\n",
            " [200.]\n",
            " [200.]\n",
            " [200.]\n",
            " [200.]\n",
            " [200.]\n",
            " [200.]\n",
            " [200.]\n",
            " [200.]\n",
            " [200.]\n",
            " [200.]\n",
            " [200.]\n",
            " [200.]\n",
            " [200.]\n",
            " [200.]\n",
            " [200.]\n",
            " [200.]\n",
            " [200.]]\n"
          ]
        }
      ],
      "source": [
        "p, n = 10, 20\n",
        "M = np.ones((p,n,n))\n",
        "V = np.ones((p,n,1))\n",
        "S = np.tensordot(M, V, axes=[[0, 2], [0, 1]])\n",
        "print(S)"
      ]
    },
    {
      "cell_type": "markdown",
      "metadata": {
        "id": "q0GUqXCOfJAH"
      },
      "source": [
        "#### 87. Consider a 16x16 array, how to get the block-sum (block size is 4x4)? (★★★) \n",
        "(**hint**: np.add.reduceat)"
      ]
    },
    {
      "cell_type": "code",
      "execution_count": 40,
      "metadata": {
        "id": "k3VSH5b0fJAH",
        "colab": {
          "base_uri": "https://localhost:8080/"
        },
        "outputId": "8048b04e-08f6-4d1d-88d4-113ef7c80d75"
      },
      "outputs": [
        {
          "output_type": "stream",
          "name": "stdout",
          "text": [
            "[[16. 16. 16. 16.]\n",
            " [16. 16. 16. 16.]\n",
            " [16. 16. 16. 16.]\n",
            " [16. 16. 16. 16.]]\n"
          ]
        }
      ],
      "source": [
        "Z = np.ones((16,16))\n",
        "k = 4\n",
        "S = np.add.reduceat(np.add.reduceat(Z, np.arange(0, Z.shape[0], k), axis=0),\n",
        "                                       np.arange(0, Z.shape[1], k), axis=1)\n",
        "print(S)\n"
      ]
    },
    {
      "cell_type": "markdown",
      "metadata": {
        "id": "VcJAoi_zfJAH"
      },
      "source": [
        "#### 88. How to implement the Game of Life using numpy arrays? (★★★)"
      ]
    },
    {
      "cell_type": "code",
      "execution_count": 39,
      "metadata": {
        "id": "N9Z0zFh2fJAI",
        "colab": {
          "base_uri": "https://localhost:8080/"
        },
        "outputId": "60bd3214-f44a-4c6d-c474-57626a82f669"
      },
      "outputs": [
        {
          "output_type": "stream",
          "name": "stdout",
          "text": [
            "[[0 0 0 ... 0 0 0]\n",
            " [0 0 0 ... 0 0 0]\n",
            " [0 0 0 ... 0 0 0]\n",
            " ...\n",
            " [0 0 0 ... 0 0 0]\n",
            " [0 0 0 ... 0 0 0]\n",
            " [0 0 0 ... 0 0 0]]\n"
          ]
        }
      ],
      "source": [
        "def iterate(Z):\n",
        "    # Count neighbours\n",
        "    N = (Z[0:-2,0:-2] + Z[0:-2,1:-1] + Z[0:-2,2:] +\n",
        "         Z[1:-1,0:-2]                + Z[1:-1,2:] +\n",
        "         Z[2:  ,0:-2] + Z[2:  ,1:-1] + Z[2:  ,2:])\n",
        "\n",
        "    # Apply rules\n",
        "    birth = (N==3) & (Z[1:-1,1:-1]==0)\n",
        "    survive = ((N==2) | (N==3)) & (Z[1:-1,1:-1]==1)\n",
        "    Z[...] = 0\n",
        "    Z[1:-1,1:-1][birth | survive] = 1\n",
        "    return Z\n",
        "\n",
        "Z = np.random.randint(0,2,(50,50))\n",
        "for i in range(100): Z = iterate(Z)\n",
        "print(Z)\n"
      ]
    },
    {
      "cell_type": "markdown",
      "metadata": {
        "id": "5dk9uiQZfJAI"
      },
      "source": [
        "#### 89. How to get the n largest values of an array (★★★) \n",
        "(**hint**: np.argsort | np.argpartition)"
      ]
    },
    {
      "cell_type": "code",
      "execution_count": 38,
      "metadata": {
        "id": "wK_bMFfhfJAI",
        "colab": {
          "base_uri": "https://localhost:8080/"
        },
        "outputId": "e9f590d2-8b82-4c0a-e175-e78a06c40c8d"
      },
      "outputs": [
        {
          "output_type": "stream",
          "name": "stdout",
          "text": [
            "[9995 9996 9997 9998 9999]\n",
            "[9999 9998 9997 9996 9995]\n"
          ]
        }
      ],
      "source": [
        "A = np.arange(10000)\n",
        "np.random.shuffle(A)\n",
        "n = 5\n",
        "print (A[np.argsort(A)[-n:]])\n",
        "\n",
        "#Alternate method\n",
        "\n",
        "print (A[np.argpartition(-A,n)[:n]])"
      ]
    },
    {
      "cell_type": "markdown",
      "metadata": {
        "id": "8coR6SKofJAI"
      },
      "source": [
        "#### 90. Given an arbitrary number of vectors, build the cartesian product (every combinations of every item) (★★★) \n",
        "(**hint**: np.indices)"
      ]
    },
    {
      "cell_type": "code",
      "execution_count": 37,
      "metadata": {
        "scrolled": true,
        "id": "m6YaKPN1fJAI",
        "colab": {
          "base_uri": "https://localhost:8080/"
        },
        "outputId": "5ff376d9-e772-4650-9292-a46f3302e3f4"
      },
      "outputs": [
        {
          "output_type": "stream",
          "name": "stdout",
          "text": [
            "[[1 4 6]\n",
            " [1 4 7]\n",
            " [1 5 6]\n",
            " [1 5 7]\n",
            " [2 4 6]\n",
            " [2 4 7]\n",
            " [2 5 6]\n",
            " [2 5 7]\n",
            " [3 4 6]\n",
            " [3 4 7]\n",
            " [3 5 6]\n",
            " [3 5 7]]\n"
          ]
        }
      ],
      "source": [
        "def cartesian(arrays):\n",
        "    arrays = [np.asarray(a) for a in arrays]\n",
        "    shape = (len(x) for x in arrays)\n",
        "\n",
        "    ix = np.indices(shape, dtype=int)\n",
        "    ix = ix.reshape(len(arrays), -1).T\n",
        "\n",
        "    for n, arr in enumerate(arrays):\n",
        "        ix[:, n] = arrays[n][ix[:, n]]\n",
        "\n",
        "    return ix\n",
        "\n",
        "print (cartesian(([1, 2, 3], [4, 5], [6, 7])))"
      ]
    },
    {
      "cell_type": "markdown",
      "metadata": {
        "id": "EhkGAnhAfJAI"
      },
      "source": [
        "#### 91. How to create a record array from a regular array? (★★★) \n",
        "(**hint**: np.core.records.fromarrays)"
      ]
    },
    {
      "cell_type": "code",
      "execution_count": 36,
      "metadata": {
        "id": "FF-TtRktfJAI",
        "colab": {
          "base_uri": "https://localhost:8080/"
        },
        "outputId": "4ae630c1-0513-4097-8cab-985325851d64"
      },
      "outputs": [
        {
          "output_type": "stream",
          "name": "stdout",
          "text": [
            "[(b'Hello', 2.5, 3) (b'World', 3.6, 2)]\n"
          ]
        }
      ],
      "source": [
        "Z = np.array([(\"Hello\", 2.5, 3),\n",
        "              (\"World\", 3.6, 2)])\n",
        "R = np.core.records.fromarrays(Z.T,\n",
        "                               names='col1, col2, col3',\n",
        "                               formats = 'S8, f8, i8')\n",
        "print(R)\n"
      ]
    },
    {
      "cell_type": "markdown",
      "metadata": {
        "id": "85R9kfwTfJAI"
      },
      "source": [
        "#### 92. Consider a large vector Z, compute Z to the power of 3 using 3 different methods (★★★) \n",
        "(**hint**: np.power, \\*, np.einsum)"
      ]
    },
    {
      "cell_type": "code",
      "execution_count": 35,
      "metadata": {
        "id": "cvGu9pxnfJAI"
      },
      "outputs": [],
      "source": [
        "\n",
        "# Commented out IPython magic to ensure Python compatibility.\n",
        "x = np.random.rand(int(5e7))\n",
        "\n",
        "# %timeit np.power(x,3)\n",
        "# %timeit x*x*x\n",
        "# %timeit np.einsum('i,i,i->i',x,x,x)"
      ]
    },
    {
      "cell_type": "markdown",
      "metadata": {
        "id": "TO3oH2XxfJAI"
      },
      "source": [
        "#### 93. Consider two arrays A and B of shape (8,3) and (2,2). How to find rows of A that contain elements of each row of B regardless of the order of the elements in B? (★★★) \n",
        "(**hint**: np.where)"
      ]
    },
    {
      "cell_type": "code",
      "execution_count": 34,
      "metadata": {
        "id": "SMa80Ts8fJAJ",
        "colab": {
          "base_uri": "https://localhost:8080/"
        },
        "outputId": "a22a8921-7e16-4300-dac0-ffdad28e3b64"
      },
      "outputs": [
        {
          "output_type": "stream",
          "name": "stdout",
          "text": [
            "[1 4 5 6]\n"
          ]
        }
      ],
      "source": [
        "A = np.random.randint(0,5,(8,3))\n",
        "B = np.random.randint(0,5,(2,2))\n",
        "\n",
        "C = (A[..., np.newaxis, np.newaxis] == B)\n",
        "rows = np.where(C.any((3,1)).all(1))[0]\n",
        "print(rows)\n"
      ]
    },
    {
      "cell_type": "markdown",
      "metadata": {
        "id": "9Q1qMn92fJAJ"
      },
      "source": [
        "#### 94. Considering a 10x3 matrix, extract rows with unequal values (e.g. \\[2,2,3\\]) (★★★)"
      ]
    },
    {
      "cell_type": "code",
      "execution_count": 33,
      "metadata": {
        "id": "9JkRQOyWfJAJ",
        "colab": {
          "base_uri": "https://localhost:8080/"
        },
        "outputId": "07e40dcc-4b21-49d1-abd5-7c2feddc812d"
      },
      "outputs": [
        {
          "output_type": "stream",
          "name": "stdout",
          "text": [
            "[[2 4 4]\n",
            " [3 0 3]\n",
            " [2 1 4]\n",
            " [4 4 2]\n",
            " [3 1 0]\n",
            " [3 1 4]\n",
            " [1 1 3]\n",
            " [2 4 4]\n",
            " [1 0 0]\n",
            " [4 4 2]]\n",
            "[[2 4 4]\n",
            " [3 0 3]\n",
            " [2 1 4]\n",
            " [4 4 2]\n",
            " [3 1 0]\n",
            " [3 1 4]\n",
            " [1 1 3]\n",
            " [2 4 4]\n",
            " [1 0 0]\n",
            " [4 4 2]]\n",
            "[[2 4 4]\n",
            " [3 0 3]\n",
            " [2 1 4]\n",
            " [4 4 2]\n",
            " [3 1 0]\n",
            " [3 1 4]\n",
            " [1 1 3]\n",
            " [2 4 4]\n",
            " [1 0 0]\n",
            " [4 4 2]]\n"
          ]
        }
      ],
      "source": [
        "Z = np.random.randint(0,5,(10,3))\n",
        "print(Z)\n",
        "# solution for arrays of all dtypes (including string arrays and record arrays)\n",
        "E = np.all(Z[:,1:] == Z[:,:-1], axis=1)\n",
        "U = Z[~E]\n",
        "print(U)\n",
        "# soluiton for numerical arrays only, will work for any number of columns in Z\n",
        "U = Z[Z.max(axis=1) != Z.min(axis=1),:]\n",
        "print(U)"
      ]
    },
    {
      "cell_type": "markdown",
      "metadata": {
        "id": "gCfZ7gBYfJAJ"
      },
      "source": [
        "#### 95. Convert a vector of ints into a matrix binary representation (★★★) \n",
        "(**hint**: np.unpackbits)"
      ]
    },
    {
      "cell_type": "code",
      "execution_count": 32,
      "metadata": {
        "id": "5js5r9_CfJAJ",
        "colab": {
          "base_uri": "https://localhost:8080/"
        },
        "outputId": "50e3ecc8-a833-4d36-d66f-e3d3eb17eee1"
      },
      "outputs": [
        {
          "output_type": "stream",
          "name": "stdout",
          "text": [
            "[[0 0 0 0 0 0 0 0]\n",
            " [0 0 0 0 0 0 0 1]\n",
            " [0 0 0 0 0 0 1 0]\n",
            " [0 0 0 0 0 0 1 1]\n",
            " [0 0 0 0 1 1 1 1]\n",
            " [0 0 0 1 0 0 0 0]\n",
            " [0 0 1 0 0 0 0 0]\n",
            " [0 1 0 0 0 0 0 0]\n",
            " [1 0 0 0 0 0 0 0]]\n"
          ]
        }
      ],
      "source": [
        "I = np.array([0, 1, 2, 3, 15, 16, 32, 64, 128], dtype=np.uint8)\n",
        "print(np.unpackbits(I[:, np.newaxis], axis=1))"
      ]
    },
    {
      "cell_type": "markdown",
      "metadata": {
        "id": "H9wIljQ0fJAJ"
      },
      "source": [
        "#### 96. Given a two dimensional array, how to extract unique rows? (★★★) \n",
        "(**hint**: np.ascontiguousarray)"
      ]
    },
    {
      "cell_type": "code",
      "execution_count": 31,
      "metadata": {
        "id": "8rSjVeUXfJAJ",
        "colab": {
          "base_uri": "https://localhost:8080/"
        },
        "outputId": "5de78971-f70c-4428-9502-64b4a0e43e87"
      },
      "outputs": [
        {
          "output_type": "stream",
          "name": "stdout",
          "text": [
            "[[0 0 0]\n",
            " [0 0 1]\n",
            " [0 1 0]\n",
            " [1 0 0]]\n"
          ]
        }
      ],
      "source": [
        "Z = np.random.randint(0,2,(6,3))\n",
        "T = np.ascontiguousarray(Z).view(np.dtype((np.void, Z.dtype.itemsize * Z.shape[1])))\n",
        "_, idx = np.unique(T, return_index=True)\n",
        "uZ = Z[idx]\n",
        "print(uZ)"
      ]
    },
    {
      "cell_type": "markdown",
      "metadata": {
        "id": "GHQImAY_fJAJ"
      },
      "source": [
        "#### 97. Considering 2 vectors A & B, write the einsum equivalent of inner, outer, sum, and mul function (★★★) \n",
        "(**hint**: np.einsum)"
      ]
    },
    {
      "cell_type": "code",
      "execution_count": 29,
      "metadata": {
        "id": "7CT_t9hxfJAJ",
        "colab": {
          "base_uri": "https://localhost:8080/"
        },
        "outputId": "04e0649e-7329-40a6-d4a9-fdf3e55547b1"
      },
      "outputs": [
        {
          "output_type": "execute_result",
          "data": {
            "text/plain": [
              "array([[1.63162461e-02, 6.43512106e-02, 1.06730581e-02, 7.87363492e-02,\n",
              "        2.78606303e-02, 7.55653797e-02, 1.14387000e-01, 1.28138734e-01,\n",
              "        3.35123159e-02, 1.57628129e-01],\n",
              "       [6.40322104e-02, 2.52542786e-01, 4.18858293e-02, 3.08996471e-01,\n",
              "        1.09337511e-01, 2.96552176e-01, 4.48905491e-01, 5.02873414e-01,\n",
              "        1.31517240e-01, 6.18602922e-01],\n",
              "       [1.28313649e-04, 5.06068527e-04, 8.39346878e-05, 6.19195628e-04,\n",
              "        2.19100589e-04, 5.94258602e-04, 8.99558226e-04, 1.00770413e-03,\n",
              "        2.63546376e-04, 1.23961359e-03],\n",
              "       [7.41629795e-02, 2.92498500e-01, 4.85127388e-02, 3.57883928e-01,\n",
              "        1.26636197e-01, 3.43470776e-01, 5.19928463e-01, 5.82434848e-01,\n",
              "        1.52325062e-01, 7.16474342e-01],\n",
              "       [5.28218179e-02, 2.08329042e-01, 3.45526983e-02, 2.54899140e-01,\n",
              "        9.01953261e-02, 2.44633520e-01, 3.70313690e-01, 4.14833218e-01,\n",
              "        1.08491956e-01, 5.10301467e-01],\n",
              "       [5.16370765e-02, 2.03656427e-01, 3.37777153e-02, 2.49182003e-01,\n",
              "        8.81723337e-02, 2.39146631e-01, 3.62007919e-01, 4.05528918e-01,\n",
              "        1.06058588e-01, 4.98855907e-01],\n",
              "       [2.33732162e-03, 9.21838731e-03, 1.52892824e-03, 1.12790755e-02,\n",
              "        3.99106836e-03, 1.08248303e-02, 1.63860736e-02, 1.83560258e-02,\n",
              "        4.80067903e-03, 2.25804166e-02],\n",
              "       [1.39497958e-02, 5.50179400e-02, 9.12507569e-03, 6.73167093e-02,\n",
              "        2.38198236e-02, 6.46056459e-02, 9.77967169e-02, 1.09553948e-01,\n",
              "        2.86518088e-02, 1.34766306e-01],\n",
              "       [3.30886997e-02, 1.30501702e-01, 2.16445383e-02, 1.59674192e-01,\n",
              "        5.65002528e-02, 1.53243592e-01, 2.31972298e-01, 2.59860269e-01,\n",
              "        6.79616470e-02, 3.19663591e-01],\n",
              "       [8.98792652e-02, 3.54483469e-01, 5.87933407e-02, 4.33725084e-01,\n",
              "        1.53472371e-01, 4.16257561e-01, 6.30109369e-01, 7.05861826e-01,\n",
              "        1.84605105e-01, 8.68306369e-01]])"
            ]
          },
          "metadata": {},
          "execution_count": 29
        }
      ],
      "source": [
        "A = np.random.uniform(0,1,10)\n",
        "B = np.random.uniform(0,1,10)\n",
        "\n",
        "np.einsum('i->', A)       # np.sum(A)\n",
        "np.einsum('i,i->i', A, B) # A * B\n",
        "np.einsum('i,i', A, B)    # np.inner(A, B)\n",
        "np.einsum('i,j->ij', A, B)    # np.outer(A, B)\n"
      ]
    },
    {
      "cell_type": "markdown",
      "metadata": {
        "id": "_mxwezTUfJAJ"
      },
      "source": [
        "#### 98. Considering a path described by two vectors (X,Y), how to sample it using equidistant samples (★★★)? \n",
        "(**hint**: np.cumsum, np.interp)"
      ]
    },
    {
      "cell_type": "code",
      "execution_count": 30,
      "metadata": {
        "collapsed": true,
        "id": "6zS5X7gdfJAK"
      },
      "outputs": [],
      "source": [
        "phi = np.arange(0, 10*np.pi, 0.1)\n",
        "a = 1\n",
        "x = a*phi*np.cos(phi)\n",
        "y = a*phi*np.sin(phi)\n",
        "\n",
        "dr = (np.diff(x)**2 + np.diff(y)**2)**.5 # segment lengths\n",
        "r = np.zeros_like(x)\n",
        "r[1:] = np.cumsum(dr)                # integrate path\n",
        "r_int = np.linspace(0, r.max(), 200) # regular spaced path\n",
        "x_int = np.interp(r_int, r, x)       # integrate path\n",
        "y_int = np.interp(r_int, r, y)"
      ]
    },
    {
      "cell_type": "markdown",
      "metadata": {
        "id": "sKr_ajP7fJAK"
      },
      "source": [
        "#### 99. Given an integer n and a 2D array X, select from X the rows which can be interpreted as draws from a multinomial distribution with n degrees, i.e., the rows which only contain integers and which sum to n. (★★★) \n",
        "(**hint**: np.logical\\_and.reduce, np.mod)"
      ]
    },
    {
      "cell_type": "code",
      "execution_count": 27,
      "metadata": {
        "id": "PD-169gqfJAK",
        "colab": {
          "base_uri": "https://localhost:8080/"
        },
        "outputId": "6f4f8a73-c57b-4984-c916-fcb686e1dfa4"
      },
      "outputs": [
        {
          "output_type": "stream",
          "name": "stdout",
          "text": [
            "[[2. 0. 1. 1.]]\n"
          ]
        }
      ],
      "source": [
        "X = np.asarray([[1.0, 0.0, 3.0, 8.0],\n",
        "                [2.0, 0.0, 1.0, 1.0],\n",
        "                [1.5, 2.5, 1.0, 0.0]])\n",
        "n = 4\n",
        "M = np.logical_and.reduce(np.mod(X, 1) == 0, axis=-1)\n",
        "M &= (X.sum(axis=-1) == n)\n",
        "print(X[M])"
      ]
    },
    {
      "cell_type": "markdown",
      "metadata": {
        "id": "n85mWWgefJAK"
      },
      "source": [
        "#### 100. Compute bootstrapped 95% confidence intervals for the mean of a 1D array X (i.e., resample the elements of an array with replacement N times, compute the mean of each sample, and then compute percentiles over the means). (★★★) \n",
        "(**hint**: np.percentile)"
      ]
    },
    {
      "cell_type": "code",
      "execution_count": 26,
      "metadata": {
        "id": "Qh_N2kacfJAK",
        "colab": {
          "base_uri": "https://localhost:8080/"
        },
        "outputId": "48627517-1ea3-4717-b30c-9b7a42a8b4a5"
      },
      "outputs": [
        {
          "output_type": "stream",
          "name": "stdout",
          "text": [
            "[-0.21100759  0.14713345]\n"
          ]
        }
      ],
      "source": [
        "X = np.random.randn(100) # random 1D array\n",
        "N = 1000 # number of bootstrap samples\n",
        "idx = np.random.randint(0, X.size, (N, X.size))\n",
        "means = X[idx].mean(axis=1)\n",
        "confint = np.percentile(means, [2.5, 97.5])\n",
        "print(confint)"
      ]
    }
  ],
  "metadata": {
    "kernelspec": {
      "display_name": "Python 3",
      "language": "python",
      "name": "python3"
    },
    "language_info": {
      "codemirror_mode": {
        "name": "ipython",
        "version": 3
      },
      "file_extension": ".py",
      "mimetype": "text/x-python",
      "name": "python",
      "nbconvert_exporter": "python",
      "pygments_lexer": "ipython3",
      "version": "3.8.3"
    },
    "colab": {
      "name": "Copy of Numpy_tasks.ipynb",
      "provenance": [],
      "collapsed_sections": [
        "-EsDlnDYfI_7",
        "4KdYxDHDfI_8",
        "SzQBnAdRfI_8",
        "5LN5MjvzfI_9",
        "vN0yVkZKfI_9",
        "sB9kT488fI_9",
        "fHu6RItifI_9",
        "oSlPmxFwfI_9",
        "tWmEqz2yfI_-",
        "kVck1OgIfI_-",
        "T8Q5UvkZfI_-",
        "RAxCwmrhfI_-",
        "qcCXH2mVfI__",
        "woX-Mz_BfI__",
        "kc9qDZWpfI__",
        "BVTGPXr_fI__",
        "iDHR-YHOfI__",
        "CsWG87C1fJAA",
        "U6DB_mugfJAA",
        "pU33A2zRfJAA",
        "bSwMfchvfJAA",
        "rdSN44d3fJAB",
        "C0WM3bjDfJAB",
        "U_E8uFccfJAB",
        "bThdummIfJAB",
        "AMRTVgK7fJAB",
        "a_0lQKXpfJAC",
        "fuoMNKnofJAC",
        "TXlo2W5xfJAC",
        "vcK8B4BefJAC",
        "oWG1WWkWfJAC",
        "Z7HTAg8hfJAD",
        "HjwwGn5tfJAD",
        "FN6sLdFFfJAD",
        "_DSljrgFfJAD",
        "wyS3a9eTfJAD",
        "-3fiYbBLfJAE",
        "E_eiUlx3fJAE",
        "gXeBotELfJAE",
        "qFYn_Qg-fJAE",
        "WTcBhxXyfJAF",
        "7Dgw3t9UfJAF",
        "R23EVzWsfJAF",
        "vmlrA-r3fJAF",
        "dfrYFuCGfJAF",
        "NOu_qSOofJAG",
        "ZMAPXua2fJAG",
        "EyQy4HGDfJAG",
        "3TW4_WWpfJAG",
        "oSjYdYUZfJAG",
        "xHi5DlPEfJAH",
        "Z25Nd5iCfJAH",
        "W_5JT3_hfJAH",
        "q0GUqXCOfJAH",
        "VcJAoi_zfJAH",
        "5dk9uiQZfJAI",
        "8coR6SKofJAI",
        "EhkGAnhAfJAI",
        "85R9kfwTfJAI",
        "TO3oH2XxfJAI",
        "9Q1qMn92fJAJ",
        "gCfZ7gBYfJAJ",
        "H9wIljQ0fJAJ",
        "GHQImAY_fJAJ",
        "_mxwezTUfJAJ",
        "sKr_ajP7fJAK",
        "n85mWWgefJAK"
      ],
      "include_colab_link": true
    }
  },
  "nbformat": 4,
  "nbformat_minor": 0
}